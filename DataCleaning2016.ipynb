{
 "cells": [
  {
   "cell_type": "code",
   "execution_count": null,
   "id": "704b610d",
   "metadata": {},
   "outputs": [],
   "source": [
    "import numpy as np\n",
    "import pandas as pd"
   ]
  },
  {
   "cell_type": "markdown",
   "id": "b1f73f8a",
   "metadata": {},
   "source": [
    "# Setup"
   ]
  },
  {
   "cell_type": "code",
   "execution_count": null,
   "id": "50388d55",
   "metadata": {},
   "outputs": [],
   "source": [
    "data_2016 = pd.read_csv('data/OSMI_2016_Mental_Health_in_Tech_Survey_Results.csv')"
   ]
  },
  {
   "cell_type": "code",
   "execution_count": null,
   "id": "979ab450",
   "metadata": {},
   "outputs": [],
   "source": [
    "data_2016.shape"
   ]
  },
  {
   "cell_type": "code",
   "execution_count": null,
   "id": "ad6c6523",
   "metadata": {},
   "outputs": [],
   "source": [
    "data_2016.head()"
   ]
  },
  {
   "cell_type": "code",
   "execution_count": null,
   "id": "d65df160",
   "metadata": {},
   "outputs": [],
   "source": [
    "data_2016.columns"
   ]
  },
  {
   "cell_type": "markdown",
   "id": "a3809cff",
   "metadata": {},
   "source": [
    "# Data Cleaning\n",
    "## 2016 Data\n",
    "### Dropping columns"
   ]
  },
  {
   "cell_type": "code",
   "execution_count": null,
   "id": "7fe249f7",
   "metadata": {},
   "outputs": [],
   "source": [
    "valid_columns = ['Are you self-employed?',\n",
    "       'How many employees does your company or organization have?',\n",
    "       'Is your employer primarily a tech company/organization?',\n",
    "       'Is your primary role within your company related to tech/IT?',\n",
    "       'Does your employer provide mental health benefits as part of healthcare coverage?',\n",
    "       'Do you know the options for mental health care available under your employer-provided coverage?',\n",
    "       'Has your employer ever formally discussed mental health (for example, as part of a wellness campaign or other official communication)?',\n",
    "       'Does your employer offer resources to learn more about mental health concerns and options for seeking help?',\n",
    "       'If a mental health issue prompted you to request a medical leave from work, asking for that leave would be:',\n",
    "       'Would you feel comfortable discussing a mental health disorder with your direct supervisor(s)?',\n",
    "       'Would you feel comfortable discussing a mental health disorder with your coworkers?',\n",
    "       'Do you currently have a mental health disorder?',\n",
    "       'If maybe, what condition(s) do you believe you have?',\n",
    "       'If yes, what condition(s) have you been diagnosed with?',\n",
    "       'What is your age?', 'What is your gender?',\n",
    "       'What country do you live in?',\n",
    "       'What US state or territory do you live in?',\n",
    "       'What country do you work in?',\n",
    "       'What US state or territory do you work in?']\n",
    "data_2016 = data_2016[valid_columns]"
   ]
  },
  {
   "cell_type": "markdown",
   "id": "5dfacff9",
   "metadata": {},
   "source": [
    "### Standardizing data"
   ]
  },
  {
   "cell_type": "code",
   "execution_count": null,
   "id": "90216990",
   "metadata": {},
   "outputs": [],
   "source": [
    "column_name_mapping = {\n",
    "    'Are you self-employed?': 'self_employed',\n",
    "       'How many employees does your company or organization have?': 'employee_count',\n",
    "       'Is your employer primarily a tech company/organization?': 'is_tech_company',\n",
    "       'Is your primary role within your company related to tech/IT?': 'is_tech_role',\n",
    "       'Does your employer provide mental health benefits as part of healthcare coverage?': 'provide_mh_benefits',\n",
    "       'Do you know the options for mental health care available under your employer-provided coverage?': 'know_mh_coverage',\n",
    "       'Has your employer ever formally discussed mental health (for example, as part of a wellness campaign or other official communication)?': \"formal_discuss_mh\",\n",
    "       'Does your employer offer resources to learn more about mental health concerns and options for seeking help?': \"offer_mh_learning_resources\",\n",
    "       'If a mental health issue prompted you to request a medical leave from work, asking for that leave would be:': \"mh_leave_difficult\",\n",
    "       'Would you feel comfortable discussing a mental health disorder with your direct supervisor(s)?': \"discuss_mh_with_supervisor\",\n",
    "       'Would you feel comfortable discussing a mental health disorder with your coworkers?': \"discuss_mh_with_coworkers\",\n",
    "       'Do you currently have a mental health disorder?': \"has_mh_disorder\",\n",
    "       'If maybe, what condition(s) do you believe you have?': \"believed_mh_disorder\",\n",
    "       'If yes, what condition(s) have you been diagnosed with?': \"diagnosed_mh_disorder\",\n",
    "       'What is your age?': \"age\",\n",
    "       'What is your gender?': \"gender\",\n",
    "       'What country do you live in?': \"live_country\",\n",
    "       'What US state or territory do you live in?': \"live_state\",\n",
    "       'What country do you work in?': \"work_country\",\n",
    "       'What US state or territory do you work in?': \"work_state\"\n",
    "}\n",
    "data_2016 = data_2016.rename(columns=column_name_mapping)"
   ]
  },
  {
   "cell_type": "code",
   "execution_count": null,
   "id": "24cd0416",
   "metadata": {},
   "outputs": [],
   "source": [
    "data_2016.isna().any()"
   ]
  },
  {
   "cell_type": "code",
   "execution_count": null,
   "id": "7eb3f012",
   "metadata": {},
   "outputs": [],
   "source": [
    "data_2016 = data_2016.fillna(-1)"
   ]
  },
  {
   "cell_type": "code",
   "execution_count": null,
   "id": "ea5c0faa",
   "metadata": {},
   "outputs": [],
   "source": [
    "for col in data_2016:\n",
    "    print(col + \": \" + str(data_2016[col].unique()))"
   ]
  },
  {
   "cell_type": "code",
   "execution_count": null,
   "id": "47820048",
   "metadata": {},
   "outputs": [],
   "source": [
    "standardize_float = lambda value: int(value)\n",
    "data_2016['is_tech_company'] = data_2016['is_tech_company'].apply(standardize_float)\n",
    "data_2016['is_tech_role'] = data_2016['is_tech_role'].apply(standardize_float)\n",
    "data_2016['age'] = data_2016['age'].apply(standardize_float)"
   ]
  },
  {
   "cell_type": "code",
   "execution_count": null,
   "id": "83222f2b",
   "metadata": {},
   "outputs": [],
   "source": [
    "employee_count_dict = {'1-5': 0, '6-25': 1, '26-100': 2, '100-500': 3, '500-1000': 4, 'More than 1000': 5}\n",
    "data_2016['employee_count'] = data_2016['employee_count'].replace(employee_count_dict)"
   ]
  },
  {
   "cell_type": "code",
   "execution_count": null,
   "id": "65bf839f",
   "metadata": {},
   "outputs": [],
   "source": [
    "yes_no_mapping = {\"Yes\": 2, \"I don't know\": 1, \"I am not sure\": 1, \"No\": 0, \"Not eligible for coverage / N/A\": 0}\n",
    "\n",
    "data_2016['provide_mh_benefits'] = data_2016['provide_mh_benefits'].replace(yes_no_mapping)\n",
    "data_2016['know_mh_coverage'] = data_2016['know_mh_coverage'].replace(yes_no_mapping)\n",
    "data_2016['formal_discuss_mh'] = data_2016['formal_discuss_mh'].replace(yes_no_mapping)\n",
    "data_2016['offer_mh_learning_resources'] = data_2016['offer_mh_learning_resources'].replace(yes_no_mapping)"
   ]
  },
  {
   "cell_type": "code",
   "execution_count": null,
   "id": "e71f8124",
   "metadata": {},
   "outputs": [],
   "source": [
    "difficulty_mapping = {'Very easy': 5, 'Somewhat easy': 4, 'Neither easy nor difficult': 3, \"I don't know\": 3, 'Somewhat difficult': 2, 'Difficult': 1, 'Very difficult': 0}\n",
    "data_2016['mh_leave_difficult'] = data_2016['mh_leave_difficult'].replace(difficulty_mapping)"
   ]
  },
  {
   "cell_type": "code",
   "execution_count": null,
   "id": "561d0c85",
   "metadata": {},
   "outputs": [],
   "source": [
    "yes_no_maybe_mapping = {'Yes':2, 'Maybe':1, 'No':0}\n",
    "data_2016['discuss_mh_with_supervisor'] = data_2016['discuss_mh_with_supervisor'].replace(yes_no_maybe_mapping)\n",
    "data_2016['discuss_mh_with_coworkers'] = data_2016['discuss_mh_with_coworkers'].replace(yes_no_maybe_mapping)"
   ]
  },
  {
   "cell_type": "code",
   "execution_count": null,
   "id": "fa4e339d",
   "metadata": {},
   "outputs": [],
   "source": [
    "data_2016['gender'].unique()"
   ]
  },
  {
   "cell_type": "code",
   "execution_count": null,
   "id": "f636d4b3",
   "metadata": {},
   "outputs": [],
   "source": [
    "male = ['Male', 'male', 'Male ', 'M', 'm', 'man',  'Cis male', \n",
    "        'Male.', 'Male (cis)','Man', 'Sex is male', 'Male (trans, FtM)',\n",
    "        'cis male', 'Malr', 'Dude', 'Male/genderqueer',\n",
    "        \"I'm a man why didn't you make this a drop down question. You should of asked sex? And I would of answered yes please. Seriously how much text can this take? \",\n",
    "        'mail', 'M|', 'male ', 'Cis Male', 'cisdude', 'cis man', 'MALE']\n",
    "female = ['Female', 'female', 'I identify as female.', 'female ', 'Female assigned at birth ',\n",
    "         'F', 'Woman', 'fm', 'f', 'Cis female ', 'Transitioned, M2F', 'Genderfluid (born female)', 'Female or Multi-Gender Femme', \n",
    "         'Female ', 'woman', 'female/woman', 'Cisgender Female', 'fem', 'Female (props for making this a freeform field, though)',\n",
    "         ' Female', 'Cis-woman', 'Genderflux demi-girl', 'female-bodied; no feelings about gender',\n",
    "         'Transgender woman', 'genderqueer woman']\n",
    "\n",
    "na = ['none of your business', 'Human', 'human']\n",
    "def gender_standardization(gender):\n",
    "    if gender in male:\n",
    "        return 0\n",
    "    elif gender in female:\n",
    "        return 1\n",
    "    elif gender in na:\n",
    "        return -1\n",
    "    elif isinstance(gender, int) and gender == -1:\n",
    "        return -1\n",
    "    else:\n",
    "        return 2\n",
    "data_2016['gender'] = data_2016['gender'].apply(gender_standardization)"
   ]
  },
  {
   "cell_type": "code",
   "execution_count": null,
   "id": "d0d3473c",
   "metadata": {},
   "outputs": [],
   "source": [
    "data_2016['gender'].value_counts()"
   ]
  },
  {
   "cell_type": "code",
   "execution_count": null,
   "id": "67671c90",
   "metadata": {},
   "outputs": [],
   "source": [
    "yes_no_possibly_mapping = {'Yes': 3, 'Maybe': 2, 'No': 0}\n",
    "data_2016['has_mh_disorder'] = data_2016['has_mh_disorder'].replace(yes_no_possibly_mapping)\n",
    "data_2016['has_mh_disorder'].value_counts()"
   ]
  },
  {
   "cell_type": "code",
   "execution_count": null,
   "id": "47abe497",
   "metadata": {},
   "outputs": [],
   "source": [
    "def standardize_disorders(disorders):\n",
    "    \"\"\"\n",
    "    Standardizes the list of disorders \n",
    "    from a string into a list of strings\n",
    "    \"\"\"\n",
    "    if isinstance(disorders, int):\n",
    "        return []\n",
    "    \n",
    "    disorder_list = []\n",
    "    in_parenthesis = False\n",
    "    disorder = \"\"\n",
    "    for char in disorders:\n",
    "        if char == \",\" and not in_parenthesis:\n",
    "            disorder_list.append(disorder.strip())\n",
    "            disorder = \"\"\n",
    "            in_parenthesis = False\n",
    "        elif char == \"(\":\n",
    "            in_parenthesis = True\n",
    "        elif char == \")\":\n",
    "            in_parenthesis = False\n",
    "        else:\n",
    "            disorder += char\n",
    "    disorder_list.append(disorder.strip())\n",
    "    return disorder_list\n",
    "\n",
    "def to_1D(series):\n",
    "    \"\"\"\n",
    "    Converts input to a panda compatible series so functions\n",
    "    like value counts works on lists\n",
    "    \"\"\"\n",
    "    return pd.Series([x for _list in series for x in _list])\n"
   ]
  },
  {
   "cell_type": "code",
   "execution_count": null,
   "id": "82891afd",
   "metadata": {},
   "outputs": [],
   "source": [
    "data_2016['believed_mh_disorder'] = data_2016['believed_mh_disorder'].apply(standardize_disorders)\n",
    "data_2016['diagnosed_mh_disorder'] = data_2016['diagnosed_mh_disorder'].apply(standardize_disorders)"
   ]
  }
 ],
 "metadata": {
  "kernelspec": {
   "display_name": "Python 3 (ipykernel)",
   "language": "python",
   "name": "python3"
  },
  "language_info": {
   "codemirror_mode": {
    "name": "ipython",
    "version": 3
   },
   "file_extension": ".py",
   "mimetype": "text/x-python",
   "name": "python",
   "nbconvert_exporter": "python",
   "pygments_lexer": "ipython3",
   "version": "3.7.9"
  }
 },
 "nbformat": 4,
 "nbformat_minor": 5
}
