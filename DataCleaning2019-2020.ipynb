{
 "cells": [
  {
   "cell_type": "markdown",
   "id": "d2d7d38d",
   "metadata": {},
   "source": [
    "# Setup"
   ]
  },
  {
   "cell_type": "code",
   "execution_count": null,
   "id": "19fe2634",
   "metadata": {},
   "outputs": [],
   "source": [
    "import numpy as np\n",
    "import pandas as pd\n",
    "import datetime"
   ]
  },
  {
   "cell_type": "code",
   "execution_count": null,
   "id": "3e865a13",
   "metadata": {},
   "outputs": [],
   "source": [
    "data_2019 = pd.read_csv('data/OSMI 2019 Mental Health in Tech Survey Results.csv')\n",
    "data_2020 = pd.read_csv('data/OSMI 2020 Mental Health in Tech Survey Results.csv')"
   ]
  },
  {
   "cell_type": "code",
   "execution_count": null,
   "id": "b9e8d639",
   "metadata": {},
   "outputs": [],
   "source": [
    "data_2019.shape"
   ]
  },
  {
   "cell_type": "code",
   "execution_count": null,
   "id": "b681be11",
   "metadata": {},
   "outputs": [],
   "source": [
    "data_2019.columns"
   ]
  },
  {
   "cell_type": "code",
   "execution_count": null,
   "id": "1717e9fa",
   "metadata": {},
   "outputs": [],
   "source": [
    "data_2019.head()"
   ]
  },
  {
   "cell_type": "code",
   "execution_count": null,
   "id": "54ee21a2",
   "metadata": {},
   "outputs": [],
   "source": [
    "data_2019.describe()"
   ]
  },
  {
   "cell_type": "code",
   "execution_count": null,
   "id": "0cc75114",
   "metadata": {},
   "outputs": [],
   "source": [
    "data_2020.shape"
   ]
  },
  {
   "cell_type": "code",
   "execution_count": null,
   "id": "82dd07d1",
   "metadata": {},
   "outputs": [],
   "source": [
    "list(data_2020.columns)"
   ]
  },
  {
   "cell_type": "code",
   "execution_count": null,
   "id": "3ee24983",
   "metadata": {},
   "outputs": [],
   "source": [
    "data_2020.head()"
   ]
  },
  {
   "cell_type": "code",
   "execution_count": null,
   "id": "1cfc76ef",
   "metadata": {},
   "outputs": [],
   "source": [
    "data_2020.describe()"
   ]
  },
  {
   "cell_type": "markdown",
   "id": "1d95e0ab",
   "metadata": {},
   "source": [
    "# Data Cleaning"
   ]
  },
  {
   "cell_type": "markdown",
   "id": "27e0c676",
   "metadata": {},
   "source": [
    "## 2019 Data\n",
    "### Dropping Columns\n"
   ]
  },
  {
   "cell_type": "code",
   "execution_count": null,
   "id": "4d7bd223",
   "metadata": {},
   "outputs": [],
   "source": [
    "valid_columns = ['*Are you self-employed?*',\n",
    "       'How many employees does your company or organization have?',\n",
    "       'Is your employer primarily a tech company/organization?',\n",
    "       'Is your primary role within your company related to tech/IT?',\n",
    "       'Does your employer provide mental health benefits as part of healthcare coverage?',\n",
    "       'Do you know the options for mental health care available under your employer-provided health coverage?',\n",
    "       'Has your employer ever formally discussed mental health (for example, as part of a wellness campaign or other official communication)?',\n",
    "       'Does your employer offer resources to learn more about mental health disorders and options for seeking help?',\n",
    "       'If a mental health issue prompted you to request a medical leave from work, how easy or difficult would it be to ask for that leave?',\n",
    "       'Would you feel comfortable discussing a mental health issue with your direct supervisor(s)?',\n",
    "       'Would you feel comfortable discussing a mental health issue with your coworkers?',\n",
    "       'Overall, how much importance does your employer place on mental health?',\n",
    "       'Do you *currently* have a mental health disorder?',\n",
    "       '*If possibly, what disorder(s) do you believe you have?*',\n",
    "       '*If so, what disorder(s) were you diagnosed with?*',\n",
    "       'What is your age?', 'What is your gender?',\n",
    "       'What country do you *live* in?',\n",
    "       'What US state or territory do you *live* in?',\n",
    "       'What country do you *work* in?',\n",
    "       'What US state or territory do you *work* in?']\n",
    "data_2019 = data_2019[valid_columns]"
   ]
  },
  {
   "cell_type": "code",
   "execution_count": null,
   "id": "42c1d165",
   "metadata": {
    "scrolled": true
   },
   "outputs": [],
   "source": [
    "data_2019"
   ]
  },
  {
   "cell_type": "markdown",
   "id": "573723ad",
   "metadata": {},
   "source": [
    "### Standardizing Data"
   ]
  },
  {
   "cell_type": "code",
   "execution_count": null,
   "id": "57293440",
   "metadata": {},
   "outputs": [],
   "source": [
    "column_name_mapping = {\n",
    "    '*Are you self-employed?*': 'self_employed',\n",
    "       'How many employees does your company or organization have?': 'employee_count',\n",
    "       'Is your employer primarily a tech company/organization?': 'is_tech_company',\n",
    "       'Is your primary role within your company related to tech/IT?': 'is_tech_role',\n",
    "       'Does your employer provide mental health benefits as part of healthcare coverage?': 'provide_mh_benefits',\n",
    "       'Do you know the options for mental health care available under your employer-provided health coverage?': 'know_mh_coverage',\n",
    "       'Has your employer ever formally discussed mental health (for example, as part of a wellness campaign or other official communication)?': \"formal_discuss_mh\",\n",
    "       'Does your employer offer resources to learn more about mental health disorders and options for seeking help?': \"offer_mh_learning_resources\",\n",
    "       'If a mental health issue prompted you to request a medical leave from work, how easy or difficult would it be to ask for that leave?': \"mh_leave_difficult\",\n",
    "       'Would you feel comfortable discussing a mental health issue with your direct supervisor(s)?': \"discuss_mh_with_supervisor\",\n",
    "       'Would you feel comfortable discussing a mental health issue with your coworkers?': \"discuss_mh_with_coworkers\",\n",
    "       'Overall, how much importance does your employer place on mental health?': \"mh_importance\",\n",
    "       'Do you *currently* have a mental health disorder?': \"has_mh_disorder\",\n",
    "       '*If possibly, what disorder(s) do you believe you have?*': \"believed_mh_disorder\",\n",
    "       '*If so, what disorder(s) were you diagnosed with?*': \"diagnosed_mh_disorder\",\n",
    "       'What is your age?': \"age\",\n",
    "       'What is your gender?': \"gender\",\n",
    "       'What country do you *live* in?': \"live_country\",\n",
    "       'What US state or territory do you *live* in?': \"live_state\",\n",
    "       'What country do you *work* in?': \"work_country\",\n",
    "       'What US state or territory do you *work* in?': \"work_state\"\n",
    "}\n",
    "data_2019 = data_2019.rename(columns=column_name_mapping)"
   ]
  },
  {
   "cell_type": "code",
   "execution_count": null,
   "id": "dae9d4b2",
   "metadata": {
    "scrolled": true
   },
   "outputs": [],
   "source": [
    "data_2019.isna().any()"
   ]
  },
  {
   "cell_type": "markdown",
   "id": "fe77ec32",
   "metadata": {},
   "source": [
    "We have null data in columns that need to be addressed first"
   ]
  },
  {
   "cell_type": "code",
   "execution_count": null,
   "id": "407fd776",
   "metadata": {},
   "outputs": [],
   "source": [
    "data_2019 = data_2019.fillna(-1)"
   ]
  },
  {
   "cell_type": "code",
   "execution_count": null,
   "id": "fee4ef08",
   "metadata": {},
   "outputs": [],
   "source": [
    "for col in data_2019:\n",
    "    print(col + \": \" + str(data_2019[col].unique()))"
   ]
  },
  {
   "cell_type": "code",
   "execution_count": null,
   "id": "4e54d75c",
   "metadata": {},
   "outputs": [],
   "source": [
    "# map_dict = {}\n",
    "# map_dict['Not eligible for coverage / N/A'] = -1\n",
    "# map_dict['N/A'] = -1\n",
    "# # map_dict[\"I don't know\"] = 1\n",
    "# map_dict['I am not sure'] = 1\n",
    "# map_dict[\"Don't Know\"] = 1\n",
    "# map_dict['Maybe'] = 1\n",
    "# map_dict[\"Yes\"] = 2\n",
    "# map_dict[\"No\"] = 0\n",
    "# map_dict.update({'1-5': 0, '6-25': 1, '26-100': 2, '100-500': 3, '500-1000': 4, 'More than 1000': 5})\n",
    "# # need to specify 'I don't know' in 'If a mental health issue prompted you to request a medical leave from work, asking for that leave would be:'\n",
    "# map_dict.update({'Very easy': 5, 'Somewhat easy': 4, 'Neither easy nor difficult': 3, 'Somewhat Difficult': 2, 'Difficult': 1, 'Very difficult': 0})"
   ]
  },
  {
   "cell_type": "code",
   "execution_count": null,
   "id": "20c1a768",
   "metadata": {
    "scrolled": true
   },
   "outputs": [],
   "source": [
    "standardize_bool = lambda boolean: int(boolean)\n",
    "data_2019['self_employed'] = data_2019['self_employed'].apply(standardize_bool)\n",
    "data_2019['is_tech_company'] = data_2019['is_tech_company'].apply(standardize_bool)\n",
    "data_2019['is_tech_role'] = data_2019['is_tech_role'].apply(standardize_bool)\n",
    "data_2019"
   ]
  },
  {
   "cell_type": "code",
   "execution_count": null,
   "id": "2c5d261e",
   "metadata": {
    "scrolled": true
   },
   "outputs": [],
   "source": [
    "employee_count_dict = {'1-5': 0, '6-25': 1, '26-100': 2, '100-500': 3, '500-1000': 4, 'More than 1000': 5}\n",
    "data_2019['employee_count'] = data_2019['employee_count'].replace(employee_count_dict)\n",
    "data_2019"
   ]
  },
  {
   "cell_type": "code",
   "execution_count": null,
   "id": "6201ae8c",
   "metadata": {},
   "outputs": [],
   "source": [
    "yes_no_mapping = {\"Yes\": 2, \"I don't know\": 1, \"No\": 0, \"Not eligible for coverage / NA\": 0}\n",
    "\n",
    "data_2019['provide_mh_benefits'] = data_2019['provide_mh_benefits'].replace(yes_no_mapping)\n",
    "data_2019['know_mh_coverage'] = data_2019['know_mh_coverage'].replace(yes_no_mapping)\n",
    "data_2019['formal_discuss_mh'] = data_2019['formal_discuss_mh'].replace(yes_no_mapping)\n",
    "data_2019['offer_mh_learning_resources'] = data_2019['offer_mh_learning_resources'].replace(yes_no_mapping)\n",
    "data_2019\n"
   ]
  },
  {
   "cell_type": "code",
   "execution_count": null,
   "id": "27495248",
   "metadata": {},
   "outputs": [],
   "source": [
    "difficulty_mapping = {'Very easy': 5, 'Somewhat easy': 4, \"I don't know\": 3, 'Neither easy nor difficult': 3, 'Somewhat difficult': 2, 'Difficult': 1, 'Very difficult': 0}\n",
    "data_2019['mh_leave_difficult'] = data_2019['mh_leave_difficult'].replace(difficulty_mapping)\n",
    "data_2019"
   ]
  },
  {
   "cell_type": "code",
   "execution_count": null,
   "id": "9c0b4a3b",
   "metadata": {},
   "outputs": [],
   "source": [
    "yes_no_maybe_mapping = {'Yes':2, 'Maybe':1, 'No':0}\n",
    "data_2019['discuss_mh_with_supervisor'] = data_2019['discuss_mh_with_supervisor'].replace(yes_no_maybe_mapping)\n",
    "data_2019['discuss_mh_with_coworkers'] = data_2019['discuss_mh_with_coworkers'].replace(yes_no_maybe_mapping)\n",
    "data_2019"
   ]
  },
  {
   "cell_type": "code",
   "execution_count": null,
   "id": "4cdb09aa",
   "metadata": {
    "scrolled": true
   },
   "outputs": [],
   "source": [
    "data_2019['age'] = data_2019['age'].apply(lambda age: int(age))\n",
    "data_2019['age'].value_counts()"
   ]
  },
  {
   "cell_type": "code",
   "execution_count": null,
   "id": "ec0afbca",
   "metadata": {},
   "outputs": [],
   "source": [
    "male = ['Male', 'male', 'm', 'M',\n",
    " 'Let\\'s keep it simple and say \"male\"', 'Identify as male',\n",
    " 'Male ', 'Masculine', 'Cishet male', \n",
    " 'Man', 'cis male', 'Cis Male', 'Trans man', 'man',\n",
    " 'masculino', 'Make',\n",
    " 'CIS Male']\n",
    "female = ['female', 'Female', 'F', 'f',\n",
    " 'Woman', 'Female-identified', 'woman', 'cis woman',\n",
    " 'Agender trans woman', 'Female ', 'femmina', 'Femile' 'Female (cis)']\n",
    "def gender_standardization(gender):\n",
    "    if gender in male:\n",
    "        return 0\n",
    "    elif gender in female:\n",
    "        return 1\n",
    "    elif isinstance(gender, int) and gender == -1:\n",
    "        return -1\n",
    "    else:\n",
    "        return 2\n",
    "    \n",
    "data_2019['gender'] = data_2019['gender'].apply(gender_standardization)\n",
    "data_2019"
   ]
  },
  {
   "cell_type": "code",
   "execution_count": null,
   "id": "90984731",
   "metadata": {},
   "outputs": [],
   "source": [
    "data_2019['gender'].value_counts()"
   ]
  },
  {
   "cell_type": "code",
   "execution_count": null,
   "id": "c40bc2a7",
   "metadata": {},
   "outputs": [],
   "source": [
    "yes_no_possibly_mapping = {'Yes': 3, 'Possibly': 2, \"Don't Know\": 1, 'No': 0}\n",
    "data_2019['has_mh_disorder'] = data_2019['has_mh_disorder'].replace(yes_no_possibly_mapping)\n",
    "data_2019['has_mh_disorder'].value_counts()"
   ]
  },
  {
   "cell_type": "code",
   "execution_count": null,
   "id": "4cf0f152",
   "metadata": {},
   "outputs": [],
   "source": [
    "def standardize_disorders(disorders):\n",
    "    \"\"\"\n",
    "    Standardizes the list of disorders \n",
    "    from a string into a list of strings\n",
    "    \"\"\"\n",
    "    if isinstance(disorders, int):\n",
    "        return []\n",
    "    \n",
    "    disorder_list = []\n",
    "    in_parenthesis = False\n",
    "    disorder = \"\"\n",
    "    for char in disorders:\n",
    "        if char == \",\" and not in_parenthesis:\n",
    "            disorder_list.append(disorder.strip())\n",
    "            disorder = \"\"\n",
    "            in_parenthesis = False\n",
    "        elif char == \"(\":\n",
    "            in_parenthesis = True\n",
    "        elif char == \")\":\n",
    "            in_parenthesis = False\n",
    "        else:\n",
    "            disorder += char\n",
    "    disorder_list.append(disorder.strip())\n",
    "    return disorder_list\n",
    "\n",
    "def to_1D(series):\n",
    "    \"\"\"\n",
    "    Converts input to a panda compatible series so functions\n",
    "    like value counts works on lists\n",
    "    \"\"\"\n",
    "    return pd.Series([x for _list in series for x in _list])"
   ]
  },
  {
   "cell_type": "code",
   "execution_count": null,
   "id": "8260b371",
   "metadata": {},
   "outputs": [],
   "source": [
    "data_2019['believed_mh_disorder'] = data_2019['believed_mh_disorder'].apply(standardize_disorders)\n",
    "data_2019['diagnosed_mh_disorder'] = data_2019['diagnosed_mh_disorder'].apply(standardize_disorders)"
   ]
  },
  {
   "cell_type": "code",
   "execution_count": null,
   "id": "619b893f",
   "metadata": {},
   "outputs": [],
   "source": [
    "data_2019.describe()"
   ]
  },
  {
   "cell_type": "markdown",
   "id": "e49e1c9a",
   "metadata": {},
   "source": [
    "## 2020 Data"
   ]
  },
  {
   "cell_type": "markdown",
   "id": "10d1f5ed",
   "metadata": {},
   "source": [
    "### Fixing Data Inconsistency\n",
    "2020 changes how disorders are reported, we need to wrangle it to match the other years"
   ]
  },
  {
   "cell_type": "code",
   "execution_count": null,
   "id": "b65330bf",
   "metadata": {},
   "outputs": [],
   "source": [
    "data_2020['believed_mh_disorder'] = [[x for x in disorders if isinstance(x, str)] for disorders in data_2020.loc[:, 'Anxiety Disorder (Generalized, Social, Phobia, etc).1':'Other.1'].values.tolist()]\n",
    "data_2020['diagnosed_mh_disorder'] = [[x for x in disorders if isinstance(x, str)] for disorders in data_2020.loc[:, 'Anxiety Disorder (Generalized, Social, Phobia, etc).1':'Other.1'].values.tolist()]\n",
    "data_2020"
   ]
  },
  {
   "cell_type": "markdown",
   "id": "2464a3b7",
   "metadata": {},
   "source": [
    "### Dropping Columns"
   ]
  },
  {
   "cell_type": "code",
   "execution_count": null,
   "id": "df4df469",
   "metadata": {},
   "outputs": [],
   "source": [
    "valid_columns = ['*Are you self-employed?*',\n",
    "       'How many employees does your company or organization have?',\n",
    "       'Is your employer primarily a tech company/organization?',\n",
    "       'Is your primary role within your company related to tech/IT?',\n",
    "       'Does your employer provide mental health benefits as part of healthcare coverage?',\n",
    "       'Do you know the options for mental health care available under your employer-provided health coverage?',\n",
    "       'Has your employer ever formally discussed mental health (for example, as part of a wellness campaign or other official communication)?',\n",
    "       'Does your employer offer resources to learn more about mental health disorders and options for seeking help?',\n",
    "       'If a mental health issue prompted you to request a medical leave from work, how easy or difficult would it be to ask for that leave?',\n",
    "       'Would you feel comfortable discussing a mental health issue with your direct supervisor(s)?',\n",
    "       'Have you ever discussed your mental health with your employer?',\n",
    "       'Would you feel comfortable discussing a mental health issue with your coworkers?',\n",
    "       'Have you ever discussed your mental health with coworkers?',\n",
    "       \"Have you ever had a coworker discuss their or another coworker's mental health with you?\",\n",
    "       'Overall, how much importance does your employer place on mental health?',\n",
    "       'Do you *currently* have a mental health disorder?',\n",
    "       'believed_mh_disorder',\n",
    "       'diagnosed_mh_disorder',\n",
    "       'What is your age?', 'What is your gender?',\n",
    "       'What country do you *live* in?',\n",
    "       'What US state or territory do you *live* in?',\n",
    "       'What country do you *work* in?',\n",
    "       'What US state or territory do you *work* in?']\n",
    "data_2020 = data_2020[valid_columns]"
   ]
  },
  {
   "cell_type": "code",
   "execution_count": null,
   "id": "7742ac36",
   "metadata": {},
   "outputs": [],
   "source": [
    "data_2020.head()"
   ]
  },
  {
   "cell_type": "code",
   "execution_count": null,
   "id": "e69c18ec",
   "metadata": {
    "scrolled": true
   },
   "outputs": [],
   "source": [
    "column_name_mapping = {\n",
    "    '*Are you self-employed?*': 'self_employed',\n",
    "       'How many employees does your company or organization have?': 'employee_count',\n",
    "       'Is your employer primarily a tech company/organization?': 'is_tech_company',\n",
    "       'Is your primary role within your company related to tech/IT?': 'is_tech_role',\n",
    "       'Does your employer provide mental health benefits as part of healthcare coverage?': 'provide_mh_benefits',\n",
    "       'Do you know the options for mental health care available under your employer-provided health coverage?': 'know_mh_coverage',\n",
    "       'Has your employer ever formally discussed mental health (for example, as part of a wellness campaign or other official communication)?': \"formal_discuss_mh\",\n",
    "       'Does your employer offer resources to learn more about mental health disorders and options for seeking help?': \"offer_mh_learning_resources\",\n",
    "       'If a mental health issue prompted you to request a medical leave from work, how easy or difficult would it be to ask for that leave?': \"mh_leave_difficult\",\n",
    "       'Would you feel comfortable discussing a mental health issue with your direct supervisor(s)?': \"discuss_mh_with_supervisor\",\n",
    "       'Would you feel comfortable discussing a mental health issue with your coworkers?': \"discuss_mh_with_coworkers\",\n",
    "       'Overall, how much importance does your employer place on mental health?': \"mh_importance\",\n",
    "       'Do you *currently* have a mental health disorder?': \"has_mh_disorder\",\n",
    "       'What is your age?': \"age\",\n",
    "       'What is your gender?': \"gender\",\n",
    "       'What country do you *live* in?': \"live_country\",\n",
    "       'What US state or territory do you *live* in?': \"live_state\",\n",
    "       'What country do you *work* in?': \"work_country\",\n",
    "       'What US state or territory do you *work* in?': \"work_state\"\n",
    "}\n",
    "data_2020 = data_2020.rename(columns=column_name_mapping)\n",
    "data_2020.head()"
   ]
  },
  {
   "cell_type": "markdown",
   "id": "809c9313",
   "metadata": {},
   "source": [
    "There are still NaNs, so we will fill with -1 as a placeholder"
   ]
  },
  {
   "cell_type": "code",
   "execution_count": null,
   "id": "5ca87918",
   "metadata": {},
   "outputs": [],
   "source": [
    "data_2020 = data_2020.fillna(-1)"
   ]
  },
  {
   "cell_type": "code",
   "execution_count": null,
   "id": "d2bb8d3e",
   "metadata": {
    "scrolled": true
   },
   "outputs": [],
   "source": [
    "for col in data_2020:\n",
    "    if not isinstance(data_2020[col][0], list):\n",
    "        print(col + \": \" + str(data_2020[col].unique()))"
   ]
  },
  {
   "cell_type": "code",
   "execution_count": null,
   "id": "677efc09",
   "metadata": {},
   "outputs": [],
   "source": [
    "employee_count_dict = {'1-5': 0, '6-25': 1, '26-100': 2, '100-500': 3, '500-1000': 4, 'More than 1000': 5}\n",
    "data_2020['employee_count'] = data_2020['employee_count'].replace(employee_count_dict)\n",
    "data_2020"
   ]
  },
  {
   "cell_type": "code",
   "execution_count": null,
   "id": "cd1e571f",
   "metadata": {},
   "outputs": [],
   "source": [
    "data_2020['is_tech_company'].value_counts()"
   ]
  },
  {
   "cell_type": "code",
   "execution_count": null,
   "id": "2dfb1939",
   "metadata": {},
   "outputs": [],
   "source": [
    "data_2020['is_tech_role'].value_counts()"
   ]
  },
  {
   "cell_type": "code",
   "execution_count": null,
   "id": "0e183dd5",
   "metadata": {},
   "outputs": [],
   "source": [
    "yes_no_mapping = {\"Yes\": 2, \"I don't know\": 1, \"No\": 0, \"Not eligible for coverage / NA\": 0}\n",
    "\n",
    "data_2020['provide_mh_benefits'] = data_2020['provide_mh_benefits'].replace(yes_no_mapping)\n",
    "data_2020['know_mh_coverage'] = data_2020['know_mh_coverage'].replace(yes_no_mapping)\n",
    "data_2020['formal_discuss_mh'] = data_2020['formal_discuss_mh'].replace(yes_no_mapping)\n",
    "data_2020['offer_mh_learning_resources'] = data_2020['offer_mh_learning_resources'].replace(yes_no_mapping)\n",
    "data_2020\n"
   ]
  },
  {
   "cell_type": "code",
   "execution_count": null,
   "id": "fdb080cb",
   "metadata": {},
   "outputs": [],
   "source": [
    "difficulty_mapping = {'Very easy': 5, 'Somewhat easy': 4, \"I don't know\": 3, 'Neither easy nor difficult': 3, 'Somewhat difficult': 2, 'Difficult': 1, 'Very difficult': 0}\n",
    "data_2020['mh_leave_difficult'] = data_2020['mh_leave_difficult'].replace(difficulty_mapping)\n",
    "data_2020"
   ]
  },
  {
   "cell_type": "code",
   "execution_count": null,
   "id": "34730dbc",
   "metadata": {},
   "outputs": [],
   "source": [
    "yes_no_maybe_mapping = {'Yes':2, 'Maybe':1, 'No':0}\n",
    "data_2020['discuss_mh_with_supervisor'] = data_2020['discuss_mh_with_supervisor'].replace(yes_no_maybe_mapping)\n",
    "data_2020['discuss_mh_with_coworkers'] = data_2020['discuss_mh_with_coworkers'].replace(yes_no_maybe_mapping)\n",
    "data_2020"
   ]
  },
  {
   "cell_type": "code",
   "execution_count": null,
   "id": "c247cd46",
   "metadata": {},
   "outputs": [],
   "source": [
    "yes_no_possibly_mapping = {'Yes': 3, 'Possibly': 2, \"Don't Know\": 1, 'No': 0}\n",
    "data_2020['has_mh_disorder'] = data_2020['has_mh_disorder'].replace(yes_no_possibly_mapping)\n",
    "data_2020"
   ]
  },
  {
   "cell_type": "code",
   "execution_count": null,
   "id": "4369e206",
   "metadata": {},
   "outputs": [],
   "source": [
    "male = ['Male', 'male', 'mail', 'M', 'm', 'mostly male', 'cisgender male', 'MAle']\n",
    "female = ['female', 'Female', 'F', 'f', 'Woman', 'FEMALE', 'female, she/her',]\n",
    "def gender_standardization(gender):\n",
    "    if gender in male:\n",
    "        return 0\n",
    "    elif gender in female:\n",
    "        return 1\n",
    "    elif isinstance(gender, int) and gender == -1:\n",
    "        return -1\n",
    "    else:\n",
    "        return 2\n",
    "    \n",
    "data_2020['gender'] = data_2020['gender'].apply(gender_standardization)\n",
    "data_2020"
   ]
  },
  {
   "cell_type": "markdown",
   "id": "36dd8db4",
   "metadata": {},
   "source": [
    "# Merging Dataframes"
   ]
  },
  {
   "cell_type": "code",
   "execution_count": null,
   "id": "7896d969",
   "metadata": {},
   "outputs": [],
   "source": [
    "data_2019['year'] = datetime.datetime(2019, 1, 1)\n",
    "data_2020['year'] = datetime.datetime(2020, 1, 1)"
   ]
  },
  {
   "cell_type": "code",
   "execution_count": null,
   "id": "64bd60c1",
   "metadata": {},
   "outputs": [],
   "source": [
    "data_2019"
   ]
  },
  {
   "cell_type": "code",
   "execution_count": null,
   "id": "8e979246",
   "metadata": {},
   "outputs": [],
   "source": [
    "data_2020['mh_leave_difficult'].value_counts()"
   ]
  },
  {
   "cell_type": "code",
   "execution_count": null,
   "id": "f2362fe6",
   "metadata": {},
   "outputs": [],
   "source": []
  }
 ],
 "metadata": {
  "kernelspec": {
   "display_name": "Python 3 (ipykernel)",
   "language": "python",
   "name": "python3"
  },
  "language_info": {
   "codemirror_mode": {
    "name": "ipython",
    "version": 3
   },
   "file_extension": ".py",
   "mimetype": "text/x-python",
   "name": "python",
   "nbconvert_exporter": "python",
   "pygments_lexer": "ipython3",
   "version": "3.8.12"
  }
 },
 "nbformat": 4,
 "nbformat_minor": 5
}
