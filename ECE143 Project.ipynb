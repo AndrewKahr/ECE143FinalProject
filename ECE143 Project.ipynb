{
 "cells": [
  {
   "cell_type": "markdown",
   "id": "f86d19cc",
   "metadata": {},
   "source": [
    "# Amazing Title Goes Here"
   ]
  },
  {
   "cell_type": "markdown",
   "id": "28aa5914",
   "metadata": {},
   "source": [
    "## Names"
   ]
  },
  {
   "cell_type": "markdown",
   "id": "15f02a82",
   "metadata": {},
   "source": [
    "- Andrew Kahr\n",
    "- Puja Shukla\n",
    "- Luoyuan Hu\n",
    "- Canwei Zhang\n",
    "- Yufan Jiang"
   ]
  },
  {
   "cell_type": "markdown",
   "id": "ea40689f",
   "metadata": {},
   "source": [
    "## Overview"
   ]
  },
  {
   "cell_type": "markdown",
   "id": "b846fc5f",
   "metadata": {},
   "source": [
    "What we're doing and why"
   ]
  },
  {
   "cell_type": "markdown",
   "id": "568ddce8",
   "metadata": {},
   "source": [
    "## Research Question"
   ]
  },
  {
   "cell_type": "markdown",
   "id": "08b1176c",
   "metadata": {},
   "source": [
    "Our research question"
   ]
  },
  {
   "cell_type": "markdown",
   "id": "89bdfff2",
   "metadata": {},
   "source": [
    "## Datasets"
   ]
  },
  {
   "cell_type": "markdown",
   "id": "cec1875a",
   "metadata": {},
   "source": [
    "Details about our dataset"
   ]
  },
  {
   "cell_type": "markdown",
   "id": "8f7d6d05",
   "metadata": {},
   "source": [
    "## Setup"
   ]
  },
  {
   "cell_type": "code",
   "execution_count": null,
   "id": "f2ec39fd",
   "metadata": {},
   "outputs": [],
   "source": [
    "import numpy as np\n",
    "import pandas as pd\n",
    "import datetime\n",
    "\n",
    "import seaborn as sns\n",
    "import matplotlib.pyplot as plt"
   ]
  },
  {
   "cell_type": "code",
   "execution_count": null,
   "id": "bcb9fbbf",
   "metadata": {},
   "outputs": [],
   "source": [
    "# Graph configuration\n",
    "plt.rcParams['figure.figsize'] = (10, 8)\n",
    "%matplotlib inline\n",
    "%config InlineBackend.figure_format ='retina'\n",
    "\n",
    "sns.set(context = 'talk', style='white')"
   ]
  },
  {
   "cell_type": "code",
   "execution_count": null,
   "id": "4ee3d8f0",
   "metadata": {},
   "outputs": [],
   "source": [
    "data_2016 = pd.read_csv('data/OSMI 2016 Mental Health in Tech Survey Results.csv')\n",
    "data_2017 = pd.read_csv('data/OSMI 2017 Mental Health in Tech Survey Results.csv')\n",
    "data_2018 = pd.read_csv('data/OSMI 2018 Mental Health in Tech Survey Results.csv')\n",
    "data_2019 = pd.read_csv('data/OSMI 2019 Mental Health in Tech Survey Results.csv')\n",
    "data_2020 = pd.read_csv('data/OSMI 2020 Mental Health in Tech Survey Results.csv')"
   ]
  },
  {
   "cell_type": "markdown",
   "id": "75bc1bcd",
   "metadata": {},
   "source": [
    "## Validating Import"
   ]
  },
  {
   "cell_type": "code",
   "execution_count": null,
   "id": "9f91585f",
   "metadata": {},
   "outputs": [],
   "source": [
    "data_2016.shape"
   ]
  },
  {
   "cell_type": "code",
   "execution_count": null,
   "id": "18833919",
   "metadata": {},
   "outputs": [],
   "source": [
    "data_2017.shape"
   ]
  },
  {
   "cell_type": "code",
   "execution_count": null,
   "id": "c2b2cd37",
   "metadata": {},
   "outputs": [],
   "source": [
    "data_2018.shape"
   ]
  },
  {
   "cell_type": "code",
   "execution_count": null,
   "id": "79e6fed9",
   "metadata": {},
   "outputs": [],
   "source": [
    "data_2019.shape"
   ]
  },
  {
   "cell_type": "code",
   "execution_count": null,
   "id": "c46f4ecb",
   "metadata": {},
   "outputs": [],
   "source": [
    "data_2020.shape"
   ]
  },
  {
   "cell_type": "markdown",
   "id": "d9eab2c2",
   "metadata": {},
   "source": [
    "Data size matches what the site indicates for number of responses and questions."
   ]
  },
  {
   "cell_type": "code",
   "execution_count": null,
   "id": "0756c391",
   "metadata": {},
   "outputs": [],
   "source": [
    "data_2016.head()"
   ]
  },
  {
   "cell_type": "code",
   "execution_count": null,
   "id": "01d4e938",
   "metadata": {},
   "outputs": [],
   "source": [
    "data_2017.head()"
   ]
  },
  {
   "cell_type": "code",
   "execution_count": null,
   "id": "e8c99b45",
   "metadata": {},
   "outputs": [],
   "source": [
    "data_2018.head()"
   ]
  },
  {
   "cell_type": "code",
   "execution_count": null,
   "id": "518c6b46",
   "metadata": {},
   "outputs": [],
   "source": [
    "data_2019.head()"
   ]
  },
  {
   "cell_type": "code",
   "execution_count": null,
   "id": "9ca0de1f",
   "metadata": {
    "scrolled": false
   },
   "outputs": [],
   "source": [
    "data_2020.head()"
   ]
  },
  {
   "cell_type": "markdown",
   "id": "b4a88f89",
   "metadata": {},
   "source": [
    "Now we validate we have all the columns"
   ]
  },
  {
   "cell_type": "code",
   "execution_count": null,
   "id": "8546c1b1",
   "metadata": {
    "scrolled": true
   },
   "outputs": [],
   "source": [
    "list(data_2016.columns)"
   ]
  },
  {
   "cell_type": "code",
   "execution_count": null,
   "id": "25b64173",
   "metadata": {},
   "outputs": [],
   "source": [
    "list(data_2017.columns)"
   ]
  },
  {
   "cell_type": "code",
   "execution_count": null,
   "id": "cd8d37e6",
   "metadata": {},
   "outputs": [],
   "source": [
    "list(data_2018.columns)"
   ]
  },
  {
   "cell_type": "code",
   "execution_count": null,
   "id": "95abc7f0",
   "metadata": {
    "scrolled": true
   },
   "outputs": [],
   "source": [
    "list(data_2019.columns)"
   ]
  },
  {
   "cell_type": "code",
   "execution_count": null,
   "id": "058c6c39",
   "metadata": {},
   "outputs": [],
   "source": [
    "list(data_2020.columns)"
   ]
  },
  {
   "cell_type": "markdown",
   "id": "84ad209c",
   "metadata": {},
   "source": [
    "It appears the data has imported correctly, now we need to parse out the data we are after."
   ]
  },
  {
   "cell_type": "markdown",
   "id": "e5803f2a",
   "metadata": {},
   "source": [
    "## Data Cleaning"
   ]
  },
  {
   "cell_type": "markdown",
   "id": "bdf7cda9",
   "metadata": {},
   "source": [
    "### Dropping Columns"
   ]
  },
  {
   "cell_type": "markdown",
   "id": "eb277a6a",
   "metadata": {},
   "source": [
    "#### 2016"
   ]
  },
  {
   "cell_type": "code",
   "execution_count": null,
   "id": "9d2afc1c",
   "metadata": {},
   "outputs": [],
   "source": [
    "valid_columns = ['Are you self-employed?',\n",
    "       'How many employees does your company or organization have?',\n",
    "       'Is your employer primarily a tech company/organization?',\n",
    "       'Is your primary role within your company related to tech/IT?',\n",
    "       'Does your employer provide mental health benefits as part of healthcare coverage?',\n",
    "       'Do you know the options for mental health care available under your employer-provided coverage?',\n",
    "       'Has your employer ever formally discussed mental health (for example, as part of a wellness campaign or other official communication)?',\n",
    "       'Does your employer offer resources to learn more about mental health concerns and options for seeking help?',\n",
    "       'If a mental health issue prompted you to request a medical leave from work, asking for that leave would be:',\n",
    "       'Would you feel comfortable discussing a mental health disorder with your direct supervisor(s)?',\n",
    "       'Would you feel comfortable discussing a mental health disorder with your coworkers?',\n",
    "       'Do you currently have a mental health disorder?',\n",
    "       'If maybe, what condition(s) do you believe you have?',\n",
    "       'If yes, what condition(s) have you been diagnosed with?',\n",
    "       'What is your age?', 'What is your gender?',\n",
    "       'What country do you live in?',\n",
    "       'What US state or territory do you live in?',\n",
    "       'What country do you work in?',\n",
    "       'What US state or territory do you work in?']\n",
    "data_2016 = data_2016[valid_columns]"
   ]
  },
  {
   "cell_type": "markdown",
   "id": "80a1fc69",
   "metadata": {},
   "source": [
    "#### 2017"
   ]
  },
  {
   "cell_type": "markdown",
   "id": "7c59ddf1",
   "metadata": {},
   "source": [
    "We need to do some work first to collapse the disorders into a single column"
   ]
  },
  {
   "cell_type": "code",
   "execution_count": null,
   "id": "6e56ddb2",
   "metadata": {},
   "outputs": [],
   "source": [
    "data_2017['believed_mh_disorder'] = [[x for x in disorders if isinstance(x, str)] for disorders in data_2017.loc[:, 'Anxiety Disorder (Generalized, Social, Phobia, etc).1':'Other.1'].values.tolist()]\n",
    "data_2017['diagnosed_mh_disorder'] = [[x for x in disorders if isinstance(x, str)] for disorders in data_2017.loc[:, 'Anxiety Disorder (Generalized, Social, Phobia, etc).1':'Other.1'].values.tolist()]"
   ]
  },
  {
   "cell_type": "code",
   "execution_count": null,
   "id": "dfa409b9",
   "metadata": {},
   "outputs": [],
   "source": [
    "valid_columns = [\n",
    "        'Are you self-employed?',\n",
    "        'How many employees does your company or organization have?',\n",
    "        'Is your employer primarily a tech company/organization?',\n",
    "        'Is your primary role within your company related to tech/IT?',\n",
    "        'Does your employer provide mental health benefits\\xa0as part of healthcare coverage?',\n",
    "        'Do you know the options for mental health care available under your employer-provided health coverage?',\n",
    "        'Has your employer ever formally discussed mental health (for example, as part of a wellness campaign or other official communication)?',\n",
    "        'Does your employer offer resources to learn more about mental health disorders and options for seeking help?',\n",
    "        'Overall, how much importance does your employer place on mental health?',\n",
    "        'If a mental health issue prompted you to request a medical leave from work, how easy or difficult would it be to ask for that leave?',\n",
    "        'Would you feel comfortable discussing a mental health issue with your coworkers?',\n",
    "        'Would you feel comfortable discussing a mental health issue with your direct supervisor(s)?',\n",
    "        'Do you currently have a mental health disorder?',\n",
    "        'believed_mh_disorder',\n",
    "        'diagnosed_mh_disorder',\n",
    "        'What is your age?',\n",
    "        'What is your gender?',\n",
    "        'What country do you live in?',\n",
    "        'What US state or territory do you live in?',\n",
    "        'What country do you work in?',\n",
    "        'What US state or territory do you work in?',\n",
    "       ]"
   ]
  },
  {
   "cell_type": "code",
   "execution_count": null,
   "id": "06961915",
   "metadata": {},
   "outputs": [],
   "source": [
    "data_2017.columns=data_2017.columns.str.replace('</strong>','')\n",
    "data_2017.columns=data_2017.columns.str.replace('<strong>','')\n",
    "data_2017=data_2017[valid_columns]"
   ]
  },
  {
   "cell_type": "markdown",
   "id": "34d70d74",
   "metadata": {},
   "source": [
    "#### 2018"
   ]
  },
  {
   "cell_type": "markdown",
   "id": "7a37ade3",
   "metadata": {},
   "source": [
    "We need to do some work first to collapse the disorders into a single column"
   ]
  },
  {
   "cell_type": "code",
   "execution_count": null,
   "id": "52e74ca2",
   "metadata": {},
   "outputs": [],
   "source": [
    "data_2018['believed_mh_disorder'] = [[x for x in disorders if isinstance(x, str)] for disorders in data_2018.loc[:, 'Anxiety Disorder (Generalized, Social, Phobia, etc).1':'Other.1'].values.tolist()]\n",
    "data_2018['diagnosed_mh_disorder'] = [[x for x in disorders if isinstance(x, str)] for disorders in data_2018.loc[:, 'Anxiety Disorder (Generalized, Social, Phobia, etc).1':'Other.1'].values.tolist()]"
   ]
  },
  {
   "cell_type": "code",
   "execution_count": null,
   "id": "84ac8249",
   "metadata": {},
   "outputs": [],
   "source": [
    "valid_columns = ['<strong>Are you self-employed?</strong>',\n",
    "       'How many employees does your company or organization have?',\n",
    "       'Is your employer primarily a tech company/organization?',\n",
    "       'Is your primary role within your company related to tech/IT?',\n",
    "       'Does your employer provide mental health benefits as part of healthcare coverage?',\n",
    "       'Do you know the options for mental health care available under your employer-provided health coverage?',\n",
    "       'Has your employer ever formally discussed mental health (for example, as part of a wellness campaign or other official communication)?',\n",
    "       'Does your employer offer resources to learn more about mental health disorders and options for seeking help?',\n",
    "       'If a mental health issue prompted you to request a medical leave from work, how easy or difficult would it be to ask for that leave?',\n",
    "       'Would you feel comfortable discussing a mental health issue with your direct supervisor(s)?',\n",
    "       'Would you feel comfortable discussing a mental health issue with your coworkers?',\n",
    "       'Overall, how much importance does your employer place on mental health?',\n",
    "       'Do you currently have a mental health disorder?',\n",
    "       'believed_mh_disorder',\n",
    "       'diagnosed_mh_disorder',\n",
    "       'What is your age?', 'What is your gender?',\n",
    "       'What country do you <strong>live</strong> in?',\n",
    "       'What US state or territory do you <strong>live</strong> in?',\n",
    "       'What country do you <strong>work</strong> in?',\n",
    "       'What US state or territory do you <strong>work</strong> in?']\n",
    "data_2018 = data_2018[valid_columns]"
   ]
  },
  {
   "cell_type": "markdown",
   "id": "2f458845",
   "metadata": {},
   "source": [
    "#### 2019"
   ]
  },
  {
   "cell_type": "code",
   "execution_count": null,
   "id": "c2568fae",
   "metadata": {},
   "outputs": [],
   "source": [
    "valid_columns = ['*Are you self-employed?*',\n",
    "       'How many employees does your company or organization have?',\n",
    "       'Is your employer primarily a tech company/organization?',\n",
    "       'Is your primary role within your company related to tech/IT?',\n",
    "       'Does your employer provide mental health benefits as part of healthcare coverage?',\n",
    "       'Do you know the options for mental health care available under your employer-provided health coverage?',\n",
    "       'Has your employer ever formally discussed mental health (for example, as part of a wellness campaign or other official communication)?',\n",
    "       'Does your employer offer resources to learn more about mental health disorders and options for seeking help?',\n",
    "       'If a mental health issue prompted you to request a medical leave from work, how easy or difficult would it be to ask for that leave?',\n",
    "       'Would you feel comfortable discussing a mental health issue with your direct supervisor(s)?',\n",
    "       'Would you feel comfortable discussing a mental health issue with your coworkers?',\n",
    "       'Overall, how much importance does your employer place on mental health?',\n",
    "       'Do you *currently* have a mental health disorder?',\n",
    "       '*If possibly, what disorder(s) do you believe you have?*',\n",
    "       '*If so, what disorder(s) were you diagnosed with?*',\n",
    "       'What is your age?', 'What is your gender?',\n",
    "       'What country do you *live* in?',\n",
    "       'What US state or territory do you *live* in?',\n",
    "       'What country do you *work* in?',\n",
    "       'What US state or territory do you *work* in?']\n",
    "data_2019 = data_2019[valid_columns]"
   ]
  },
  {
   "cell_type": "markdown",
   "id": "0f2a0b0f",
   "metadata": {},
   "source": [
    "#### 2020"
   ]
  },
  {
   "cell_type": "markdown",
   "id": "eac149d4",
   "metadata": {},
   "source": [
    "We need to do some work first to collapse the disorders into a single column"
   ]
  },
  {
   "cell_type": "code",
   "execution_count": null,
   "id": "663e56e3",
   "metadata": {},
   "outputs": [],
   "source": [
    "data_2020['believed_mh_disorder'] = [[x for x in disorders if isinstance(x, str)] for disorders in data_2020.loc[:, 'Anxiety Disorder (Generalized, Social, Phobia, etc).1':'Other.1'].values.tolist()]\n",
    "data_2020['diagnosed_mh_disorder'] = [[x for x in disorders if isinstance(x, str)] for disorders in data_2020.loc[:, 'Anxiety Disorder (Generalized, Social, Phobia, etc).1':'Other.1'].values.tolist()]"
   ]
  },
  {
   "cell_type": "code",
   "execution_count": null,
   "id": "1b91e8f3",
   "metadata": {},
   "outputs": [],
   "source": [
    "valid_columns = ['*Are you self-employed?*',\n",
    "       'How many employees does your company or organization have?',\n",
    "       'Is your employer primarily a tech company/organization?',\n",
    "       'Is your primary role within your company related to tech/IT?',\n",
    "       'Does your employer provide mental health benefits as part of healthcare coverage?',\n",
    "       'Do you know the options for mental health care available under your employer-provided health coverage?',\n",
    "       'Has your employer ever formally discussed mental health (for example, as part of a wellness campaign or other official communication)?',\n",
    "       'Does your employer offer resources to learn more about mental health disorders and options for seeking help?',\n",
    "       'If a mental health issue prompted you to request a medical leave from work, how easy or difficult would it be to ask for that leave?',\n",
    "       'Would you feel comfortable discussing a mental health issue with your direct supervisor(s)?',\n",
    "       'Would you feel comfortable discussing a mental health issue with your coworkers?',\n",
    "       'Overall, how much importance does your employer place on mental health?',\n",
    "       'Do you *currently* have a mental health disorder?',\n",
    "       'believed_mh_disorder',\n",
    "       'diagnosed_mh_disorder',\n",
    "       'What is your age?', 'What is your gender?',\n",
    "       'What country do you *live* in?',\n",
    "       'What US state or territory do you *live* in?',\n",
    "       'What country do you *work* in?',\n",
    "       'What US state or territory do you *work* in?']\n",
    "data_2020 = data_2020[valid_columns]"
   ]
  },
  {
   "cell_type": "markdown",
   "id": "c453b5a8",
   "metadata": {},
   "source": [
    "### Validating Column Dropping"
   ]
  },
  {
   "cell_type": "code",
   "execution_count": null,
   "id": "51ac2084",
   "metadata": {},
   "outputs": [],
   "source": [
    "list(data_2016.columns)"
   ]
  },
  {
   "cell_type": "code",
   "execution_count": null,
   "id": "e9d635cc",
   "metadata": {},
   "outputs": [],
   "source": [
    "list(data_2017.columns)"
   ]
  },
  {
   "cell_type": "code",
   "execution_count": null,
   "id": "46acc3e9",
   "metadata": {},
   "outputs": [],
   "source": [
    "list(data_2018.columns)"
   ]
  },
  {
   "cell_type": "code",
   "execution_count": null,
   "id": "41f04fe8",
   "metadata": {},
   "outputs": [],
   "source": [
    "list(data_2019.columns)"
   ]
  },
  {
   "cell_type": "code",
   "execution_count": null,
   "id": "035dbea7",
   "metadata": {},
   "outputs": [],
   "source": [
    "list(data_2020.columns)"
   ]
  },
  {
   "cell_type": "markdown",
   "id": "611ae003",
   "metadata": {},
   "source": [
    "Ensuring we have the same number of columns across each dataset"
   ]
  },
  {
   "cell_type": "code",
   "execution_count": null,
   "id": "eb114cda",
   "metadata": {},
   "outputs": [],
   "source": [
    "len(data_2017.columns) == len(data_2018.columns) == len(data_2019.columns) == len(data_2020.columns)"
   ]
  },
  {
   "cell_type": "markdown",
   "id": "970fdebb",
   "metadata": {},
   "source": [
    "We leave out 2016 in this check because it is missing the question \"Overall, how much importance does your employer place on mental health?\""
   ]
  },
  {
   "cell_type": "markdown",
   "id": "f41120e2",
   "metadata": {},
   "source": [
    "We are now ready to perform data standardization"
   ]
  },
  {
   "cell_type": "markdown",
   "id": "5b8b5cb3",
   "metadata": {},
   "source": [
    "### Standardizing Data"
   ]
  },
  {
   "cell_type": "markdown",
   "id": "748a4662",
   "metadata": {},
   "source": [
    "First, some helper functions to make the standardization easier"
   ]
  },
  {
   "cell_type": "code",
   "execution_count": null,
   "id": "cefbaa4e",
   "metadata": {},
   "outputs": [],
   "source": [
    "def gender_standardization(gender, male_list, female_list):\n",
    "    \"\"\"\n",
    "    Standardizes genders to integer values based on the string lists\n",
    "    provided in male_list and female_list. Returns 0 for male, 1 for female,\n",
    "    2 for other, and -1 for null entries.\n",
    "    \"\"\"\n",
    "    if gender in male:\n",
    "        return 0\n",
    "    elif gender in female:\n",
    "        return 1\n",
    "    elif isinstance(gender, int) and gender == -1:\n",
    "        return -1\n",
    "    else:\n",
    "        return 2\n",
    "    \n",
    "def standardize_disorders(disorders):\n",
    "    \"\"\"\n",
    "    Standardizes the list of disorders \n",
    "    from a string into a list of strings\n",
    "    \"\"\"\n",
    "    if isinstance(disorders, int):\n",
    "        return []\n",
    "    \n",
    "    disorder_list = []\n",
    "    in_parenthesis = False\n",
    "    disorder = \"\"\n",
    "    for char in disorders:\n",
    "        if (char == \",\" or char == \"|\") and not in_parenthesis:\n",
    "            disorder_list.append(disorder.strip())\n",
    "            disorder = \"\"\n",
    "            in_parenthesis = False\n",
    "        elif char == \"(\":\n",
    "            in_parenthesis = True\n",
    "        elif char == \")\":\n",
    "            in_parenthesis = False\n",
    "        else:\n",
    "            disorder += char\n",
    "    disorder_list.append(disorder.strip())\n",
    "    return disorder_list\n",
    "\n",
    "def to_1D(series):\n",
    "    \"\"\"\n",
    "    Converts input to a panda compatible series so functions\n",
    "    like value_counts works on lists\n",
    "    \"\"\"\n",
    "    return pd.Series([x for _list in series for x in _list])"
   ]
  },
  {
   "cell_type": "markdown",
   "id": "201bb010",
   "metadata": {},
   "source": [
    "Standard dictionaries to map values to"
   ]
  },
  {
   "cell_type": "code",
   "execution_count": null,
   "id": "d3471199",
   "metadata": {},
   "outputs": [],
   "source": [
    "employee_count_dict = {'1-5': 0, '6-25': 1, '26-100': 2, '100-500': 3, '500-1000': 4, 'More than 1000': 5}\n",
    "yes_no_mapping = {\"Yes\": 2, \"I don't know\": 1, \"I am not sure\": 1, \"No\": 0, \"Not eligible for coverage / N/A\": 0, \"Not eligible for coverage / NA\": 0}\n",
    "difficulty_mapping = {'Very easy': 3, 'Somewhat easy': 3, 'Neither easy nor difficult': 2, \"I don't know\": 2, 'Somewhat difficult': 0, 'Difficult': 0, 'Very difficult': 0}\n",
    "yes_no_maybe_mapping = {'Yes':2, 'Maybe':1, 'No':0}\n",
    "yes_no_possibly_mapping = {'Yes': 3, 'Maybe': 2, 'Possibly': 2, \"Don't Know\": 1, 'No': 0}"
   ]
  },
  {
   "cell_type": "markdown",
   "id": "6a3d8b3d",
   "metadata": {},
   "source": [
    "Now we rename the columns so they're easier to work with in code"
   ]
  },
  {
   "cell_type": "code",
   "execution_count": null,
   "id": "f1d2657a",
   "metadata": {},
   "outputs": [],
   "source": [
    "column_name_mapping_2016 = {\n",
    "       'Are you self-employed?': 'self_employed',\n",
    "       'How many employees does your company or organization have?': 'employee_count',\n",
    "       'Is your employer primarily a tech company/organization?': 'is_tech_company',\n",
    "       'Is your primary role within your company related to tech/IT?': 'is_tech_role',\n",
    "       'Does your employer provide mental health benefits as part of healthcare coverage?': 'provide_mh_benefits',\n",
    "       'Do you know the options for mental health care available under your employer-provided coverage?': 'know_mh_coverage',\n",
    "       'Has your employer ever formally discussed mental health (for example, as part of a wellness campaign or other official communication)?': \"formal_discuss_mh\",\n",
    "       'Does your employer offer resources to learn more about mental health concerns and options for seeking help?': \"offer_mh_learning_resources\",\n",
    "       'If a mental health issue prompted you to request a medical leave from work, asking for that leave would be:': \"mh_leave_difficult\",\n",
    "       'Would you feel comfortable discussing a mental health disorder with your direct supervisor(s)?': \"discuss_mh_with_supervisor\",\n",
    "       'Would you feel comfortable discussing a mental health disorder with your coworkers?': \"discuss_mh_with_coworkers\",\n",
    "       'Do you currently have a mental health disorder?': \"has_mh_disorder\",\n",
    "       'If maybe, what condition(s) do you believe you have?': \"believed_mh_disorder\",\n",
    "       'If yes, what condition(s) have you been diagnosed with?': \"diagnosed_mh_disorder\",\n",
    "       'What is your age?': \"age\",\n",
    "       'What is your gender?': \"gender\",\n",
    "       'What country do you live in?': \"live_country\",\n",
    "       'What US state or territory do you live in?': \"live_state\",\n",
    "       'What country do you work in?': \"work_country\",\n",
    "       'What US state or territory do you work in?': \"work_state\"\n",
    "}\n",
    "data_2016 = data_2016.rename(columns=column_name_mapping_2016)"
   ]
  },
  {
   "cell_type": "code",
   "execution_count": null,
   "id": "c71329de",
   "metadata": {},
   "outputs": [],
   "source": [
    "column_name_mapping_2017 = {\n",
    "       'Are you self-employed?': 'self_employed',\n",
    "       'How many employees does your company or organization have?': 'employee_count',\n",
    "       'Is your employer primarily a tech company/organization?': 'is_tech_company',\n",
    "       'Is your primary role within your company related to tech/IT?': 'is_tech_role',\n",
    "       'Does your employer provide mental health benefits\\xa0as part of healthcare coverage?': 'provide_mh_benefits',\n",
    "       'Do you know the options for mental health care available under your employer-provided health coverage?': 'know_mh_coverage',\n",
    "       'Has your employer ever formally discussed mental health (for example, as part of a wellness campaign or other official communication)?': \"formal_discuss_mh\",\n",
    "       'Does your employer offer resources to learn more about mental health disorders and options for seeking help?': \"offer_mh_learning_resources\",\n",
    "       'If a mental health issue prompted you to request a medical leave from work, how easy or difficult would it be to ask for that leave?': \"mh_leave_difficult\",\n",
    "       'Would you feel comfortable discussing a mental health issue with your direct supervisor(s)?': \"discuss_mh_with_supervisor\",\n",
    "       'Would you feel comfortable discussing a mental health issue with your coworkers?': \"discuss_mh_with_coworkers\",\n",
    "       'Overall, how much importance does your employer place on mental health?': \"mh_importance\",\n",
    "       'Do you currently have a mental health disorder?': \"has_mh_disorder\",\n",
    "       'What is your age?': \"age\",\n",
    "       'What is your gender?': \"gender\",\n",
    "       'What country do you live in?': \"live_country\",\n",
    "       'What US state or territory do you live in?': \"live_state\",\n",
    "       'What is your race?': \"race\",\n",
    "       'What country do you work in?': \"work_country\",\n",
    "       'What US state or territory do you work in?': \"work_state\"\n",
    "}\n",
    "data_2017=data_2017.rename(columns=column_name_mapping_2017)"
   ]
  },
  {
   "cell_type": "code",
   "execution_count": null,
   "id": "1693a61d",
   "metadata": {},
   "outputs": [],
   "source": [
    "column_name_mapping_2018 = {\n",
    "    '<strong>Are you self-employed?</strong>': 'self_employed',\n",
    "       'How many employees does your company or organization have?': 'employee_count',\n",
    "       'Is your employer primarily a tech company/organization?': 'is_tech_company',\n",
    "       'Is your primary role within your company related to tech/IT?': 'is_tech_role',\n",
    "       'Does your employer provide mental health benefits as part of healthcare coverage?': 'provide_mh_benefits',\n",
    "       'Do you know the options for mental health care available under your employer-provided health coverage?': 'know_mh_coverage',\n",
    "       'Has your employer ever formally discussed mental health (for example, as part of a wellness campaign or other official communication)?': \"formal_discuss_mh\",\n",
    "       'Does your employer offer resources to learn more about mental health disorders and options for seeking help?': \"offer_mh_learning_resources\",\n",
    "       'If a mental health issue prompted you to request a medical leave from work, how easy or difficult would it be to ask for that leave?': \"mh_leave_difficult\",\n",
    "       'Would you feel comfortable discussing a mental health issue with your direct supervisor(s)?': \"discuss_mh_with_supervisor\",\n",
    "       'Would you feel comfortable discussing a mental health issue with your coworkers?': \"discuss_mh_with_coworkers\",\n",
    "       'Overall, how much importance does your employer place on mental health?': \"mh_importance\",\n",
    "       'Do you currently have a mental health disorder?': \"has_mh_disorder\",\n",
    "       'What is your age?': \"age\",\n",
    "       'What is your gender?': \"gender\",\n",
    "       'What country do you <strong>live</strong> in?': \"live_country\",\n",
    "       'What US state or territory do you <strong>live</strong> in?': \"live_state\",\n",
    "       'What country do you <strong>work</strong> in?': \"work_country\",\n",
    "       'What US state or territory do you <strong>work</strong> in?': \"work_state\"\n",
    "}\n",
    "data_2018 = data_2018.rename(columns=column_name_mapping_2018)"
   ]
  },
  {
   "cell_type": "code",
   "execution_count": null,
   "id": "1a6de341",
   "metadata": {},
   "outputs": [],
   "source": [
    "column_name_mapping_2019 = {\n",
    "    '*Are you self-employed?*': 'self_employed',\n",
    "       'How many employees does your company or organization have?': 'employee_count',\n",
    "       'Is your employer primarily a tech company/organization?': 'is_tech_company',\n",
    "       'Is your primary role within your company related to tech/IT?': 'is_tech_role',\n",
    "       'Does your employer provide mental health benefits as part of healthcare coverage?': 'provide_mh_benefits',\n",
    "       'Do you know the options for mental health care available under your employer-provided health coverage?': 'know_mh_coverage',\n",
    "       'Has your employer ever formally discussed mental health (for example, as part of a wellness campaign or other official communication)?': \"formal_discuss_mh\",\n",
    "       'Does your employer offer resources to learn more about mental health disorders and options for seeking help?': \"offer_mh_learning_resources\",\n",
    "       'If a mental health issue prompted you to request a medical leave from work, how easy or difficult would it be to ask for that leave?': \"mh_leave_difficult\",\n",
    "       'Would you feel comfortable discussing a mental health issue with your direct supervisor(s)?': \"discuss_mh_with_supervisor\",\n",
    "       'Would you feel comfortable discussing a mental health issue with your coworkers?': \"discuss_mh_with_coworkers\",\n",
    "       'Overall, how much importance does your employer place on mental health?': \"mh_importance\",\n",
    "       'Do you *currently* have a mental health disorder?': \"has_mh_disorder\",\n",
    "       '*If possibly, what disorder(s) do you believe you have?*': \"believed_mh_disorder\",\n",
    "       '*If so, what disorder(s) were you diagnosed with?*': \"diagnosed_mh_disorder\",\n",
    "       'What is your age?': \"age\",\n",
    "       'What is your gender?': \"gender\",\n",
    "       'What country do you *live* in?': \"live_country\",\n",
    "       'What US state or territory do you *live* in?': \"live_state\",\n",
    "       'What country do you *work* in?': \"work_country\",\n",
    "       'What US state or territory do you *work* in?': \"work_state\"\n",
    "}\n",
    "data_2019 = data_2019.rename(columns=column_name_mapping_2019)"
   ]
  },
  {
   "cell_type": "code",
   "execution_count": null,
   "id": "8d0e81ac",
   "metadata": {},
   "outputs": [],
   "source": [
    "column_name_mapping_2020 = {\n",
    "    '*Are you self-employed?*': 'self_employed',\n",
    "       'How many employees does your company or organization have?': 'employee_count',\n",
    "       'Is your employer primarily a tech company/organization?': 'is_tech_company',\n",
    "       'Is your primary role within your company related to tech/IT?': 'is_tech_role',\n",
    "       'Does your employer provide mental health benefits as part of healthcare coverage?': 'provide_mh_benefits',\n",
    "       'Do you know the options for mental health care available under your employer-provided health coverage?': 'know_mh_coverage',\n",
    "       'Has your employer ever formally discussed mental health (for example, as part of a wellness campaign or other official communication)?': \"formal_discuss_mh\",\n",
    "       'Does your employer offer resources to learn more about mental health disorders and options for seeking help?': \"offer_mh_learning_resources\",\n",
    "       'If a mental health issue prompted you to request a medical leave from work, how easy or difficult would it be to ask for that leave?': \"mh_leave_difficult\",\n",
    "       'Would you feel comfortable discussing a mental health issue with your direct supervisor(s)?': \"discuss_mh_with_supervisor\",\n",
    "       'Would you feel comfortable discussing a mental health issue with your coworkers?': \"discuss_mh_with_coworkers\",\n",
    "       'Overall, how much importance does your employer place on mental health?': \"mh_importance\",\n",
    "       'Do you *currently* have a mental health disorder?': \"has_mh_disorder\",\n",
    "       'What is your age?': \"age\",\n",
    "       'What is your gender?': \"gender\",\n",
    "       'What country do you *live* in?': \"live_country\",\n",
    "       'What US state or territory do you *live* in?': \"live_state\",\n",
    "       'What country do you *work* in?': \"work_country\",\n",
    "       'What US state or territory do you *work* in?': \"work_state\"\n",
    "}\n",
    "data_2020 = data_2020.rename(columns=column_name_mapping_2020)"
   ]
  },
  {
   "cell_type": "markdown",
   "id": "03fc8885",
   "metadata": {},
   "source": [
    "Checking to ensure the column name mapping worked"
   ]
  },
  {
   "cell_type": "code",
   "execution_count": null,
   "id": "fcaeaa01",
   "metadata": {},
   "outputs": [],
   "source": [
    "list(data_2016.columns)"
   ]
  },
  {
   "cell_type": "code",
   "execution_count": null,
   "id": "c0640bd5",
   "metadata": {},
   "outputs": [],
   "source": [
    "list(data_2017.columns)"
   ]
  },
  {
   "cell_type": "code",
   "execution_count": null,
   "id": "45da9796",
   "metadata": {},
   "outputs": [],
   "source": [
    "list(data_2018.columns)"
   ]
  },
  {
   "cell_type": "code",
   "execution_count": null,
   "id": "bc42bd30",
   "metadata": {},
   "outputs": [],
   "source": [
    "list(data_2019.columns)"
   ]
  },
  {
   "cell_type": "code",
   "execution_count": null,
   "id": "bdaa214a",
   "metadata": {},
   "outputs": [],
   "source": [
    "list(data_2020.columns)"
   ]
  },
  {
   "cell_type": "markdown",
   "id": "047cf55d",
   "metadata": {},
   "source": [
    "We can confirm the columns were remapped correctly"
   ]
  },
  {
   "cell_type": "markdown",
   "id": "adcd0f16",
   "metadata": {},
   "source": [
    "Now we check for NaNs in our data and replace them with -1 if necessary"
   ]
  },
  {
   "cell_type": "code",
   "execution_count": null,
   "id": "43461043",
   "metadata": {},
   "outputs": [],
   "source": [
    "data_2016.isna().any()"
   ]
  },
  {
   "cell_type": "code",
   "execution_count": null,
   "id": "90c37354",
   "metadata": {},
   "outputs": [],
   "source": [
    "data_2016 = data_2016.fillna(-1)"
   ]
  },
  {
   "cell_type": "code",
   "execution_count": null,
   "id": "0bf494cc",
   "metadata": {},
   "outputs": [],
   "source": [
    "data_2017.isna().any()"
   ]
  },
  {
   "cell_type": "code",
   "execution_count": null,
   "id": "5ff566a5",
   "metadata": {},
   "outputs": [],
   "source": [
    "data_2017 = data_2017.fillna(-1)"
   ]
  },
  {
   "cell_type": "code",
   "execution_count": null,
   "id": "d028384e",
   "metadata": {},
   "outputs": [],
   "source": [
    "data_2018.isna().any()"
   ]
  },
  {
   "cell_type": "code",
   "execution_count": null,
   "id": "c57be69b",
   "metadata": {},
   "outputs": [],
   "source": [
    "data_2018 = data_2018.fillna(-1)"
   ]
  },
  {
   "cell_type": "code",
   "execution_count": null,
   "id": "3bf205b1",
   "metadata": {},
   "outputs": [],
   "source": [
    "data_2019.isna().any()"
   ]
  },
  {
   "cell_type": "code",
   "execution_count": null,
   "id": "5d79e596",
   "metadata": {},
   "outputs": [],
   "source": [
    "data_2019 = data_2019.fillna(-1)"
   ]
  },
  {
   "cell_type": "code",
   "execution_count": null,
   "id": "c65dbed1",
   "metadata": {},
   "outputs": [],
   "source": [
    "data_2020.isna().any()"
   ]
  },
  {
   "cell_type": "code",
   "execution_count": null,
   "id": "92bb7fb6",
   "metadata": {},
   "outputs": [],
   "source": [
    "data_2020 = data_2020.fillna(-1)"
   ]
  },
  {
   "cell_type": "markdown",
   "id": "8e748fd3",
   "metadata": {},
   "source": [
    "Now we can start standardizing the data to useful forms"
   ]
  },
  {
   "cell_type": "markdown",
   "id": "ab58729d",
   "metadata": {},
   "source": [
    "#### 2016"
   ]
  },
  {
   "cell_type": "code",
   "execution_count": null,
   "id": "ed7d79af",
   "metadata": {},
   "outputs": [],
   "source": [
    "data_2016['self_employed'] = data_2016['self_employed'].astype(\"int32\")\n",
    "data_2016['is_tech_company'] = data_2016['is_tech_company'].astype(\"int32\")\n",
    "data_2016['is_tech_role'] = data_2016['is_tech_role'].astype(\"int32\")\n",
    "data_2016['age'] = data_2016['age'].astype(\"int32\")\n",
    "\n",
    "data_2016['employee_count'] = data_2016['employee_count'].replace(employee_count_dict)\n",
    "\n",
    "data_2016['provide_mh_benefits'] = data_2016['provide_mh_benefits'].replace(yes_no_mapping)\n",
    "data_2016['know_mh_coverage'] = data_2016['know_mh_coverage'].replace(yes_no_mapping)\n",
    "data_2016['formal_discuss_mh'] = data_2016['formal_discuss_mh'].replace(yes_no_mapping)\n",
    "data_2016['offer_mh_learning_resources'] = data_2016['offer_mh_learning_resources'].replace(yes_no_mapping)\n",
    "\n",
    "data_2016['mh_leave_difficult'] = data_2016['mh_leave_difficult'].replace(difficulty_mapping)\n",
    "\n",
    "data_2016['discuss_mh_with_supervisor'] = data_2016['discuss_mh_with_supervisor'].replace(yes_no_maybe_mapping)\n",
    "data_2016['discuss_mh_with_coworkers'] = data_2016['discuss_mh_with_coworkers'].replace(yes_no_maybe_mapping)\n",
    "\n",
    "data_2016['has_mh_disorder'] = data_2016['has_mh_disorder'].replace(yes_no_possibly_mapping)\n",
    "\n",
    "data_2016['believed_mh_disorder'] = data_2016['believed_mh_disorder'].apply(standardize_disorders)\n",
    "data_2016['diagnosed_mh_disorder'] = data_2016['diagnosed_mh_disorder'].apply(standardize_disorders)\n",
    "\n",
    "data_2016['believed_mh_disorder'] = data_2016['believed_mh_disorder'].apply(tuple)\n",
    "data_2016['diagnosed_mh_disorder'] = data_2016['diagnosed_mh_disorder'].apply(tuple)"
   ]
  },
  {
   "cell_type": "code",
   "execution_count": null,
   "id": "95de9676",
   "metadata": {},
   "outputs": [],
   "source": [
    "male = ['Male', 'male', 'Male ', 'M', 'm', 'man',  'Cis male', \n",
    "        'Male.', 'Male (cis)','Man', 'Sex is male', 'Male (trans, FtM)',\n",
    "        'cis male', 'Malr', 'Dude', 'Male/genderqueer',\n",
    "        \"I'm a man why didn't you make this a drop down question. You should of asked sex? And I would of answered yes please. Seriously how much text can this take? \",\n",
    "        'mail', 'M|', 'male ', 'Cis Male', 'cisdude', 'cis man', 'MALE']\n",
    "female = ['Female', 'female', 'I identify as female.', 'female ', 'Female assigned at birth ',\n",
    "         'F', 'Woman', 'fm', 'f', 'Cis female ', 'Transitioned, M2F', 'Genderfluid (born female)', 'Female or Multi-Gender Femme', \n",
    "         'Female ', 'woman', 'female/woman', 'Cisgender Female', 'fem', 'Female (props for making this a freeform field, though)',\n",
    "         ' Female', 'Cis-woman', 'Genderflux demi-girl', 'female-bodied; no feelings about gender',\n",
    "         'Transgender woman', 'genderqueer woman']\n",
    "\n",
    "data_2016['gender'] = data_2016['gender'].apply(gender_standardization, args=(male, female))"
   ]
  },
  {
   "cell_type": "markdown",
   "id": "271720b1",
   "metadata": {},
   "source": [
    "#### 2017"
   ]
  },
  {
   "cell_type": "code",
   "execution_count": null,
   "id": "d538e85c",
   "metadata": {},
   "outputs": [],
   "source": [
    "data_2017['self_employed'] = data_2017['self_employed'].astype(\"int32\")\n",
    "data_2017['is_tech_company'] = data_2017['is_tech_company'].astype(\"int32\")\n",
    "data_2017['is_tech_role'] = data_2017['is_tech_role'].astype(\"int32\")\n",
    "data_2017['age'] = data_2017['age'].astype(\"int32\")\n",
    "data_2017['mh_importance'] = data_2017['mh_importance'].astype(\"int32\")\n",
    "\n",
    "data_2017['employee_count'] = data_2017['employee_count'].replace(employee_count_dict)\n",
    "\n",
    "data_2017['provide_mh_benefits'] = data_2017['provide_mh_benefits'].replace(yes_no_mapping)\n",
    "data_2017['know_mh_coverage'] = data_2017['know_mh_coverage'].replace(yes_no_mapping)\n",
    "data_2017['formal_discuss_mh'] = data_2017['formal_discuss_mh'].replace(yes_no_mapping)\n",
    "data_2017['offer_mh_learning_resources'] = data_2017['offer_mh_learning_resources'].replace(yes_no_mapping)\n",
    "\n",
    "data_2017['mh_leave_difficult'] = data_2017['mh_leave_difficult'].replace(difficulty_mapping)\n",
    "\n",
    "data_2017['discuss_mh_with_supervisor'] = data_2017['discuss_mh_with_supervisor'].replace(yes_no_maybe_mapping)\n",
    "data_2017['discuss_mh_with_coworkers'] = data_2017['discuss_mh_with_coworkers'].replace(yes_no_maybe_mapping)\n",
    "\n",
    "data_2017['has_mh_disorder'] = data_2017['has_mh_disorder'].replace(yes_no_possibly_mapping)\n",
    "\n",
    "data_2017['believed_mh_disorder'] = data_2017['believed_mh_disorder'].apply(tuple)\n",
    "data_2017['diagnosed_mh_disorder'] = data_2017['diagnosed_mh_disorder'].apply(tuple)"
   ]
  },
  {
   "cell_type": "code",
   "execution_count": null,
   "id": "0bc84ab2",
   "metadata": {},
   "outputs": [],
   "source": [
    "male=['male','Male','M','Man','cis-male','Mail','m','Male (cis)','Cis male','Male ', 'Cis-male','Cis Male','dude']\n",
    "female=['Female','F','female','f','Female','Woman','femalw','femail','female (cis)','woman','female (cisgender)','Female (cis) ','cis-Female','cis female', 'F, cisgender']\n",
    "data_2017['gender'] = data_2017['gender'].apply(gender_standardization, args=(male, female))"
   ]
  },
  {
   "cell_type": "markdown",
   "id": "2f051173",
   "metadata": {},
   "source": [
    "#### 2018"
   ]
  },
  {
   "cell_type": "code",
   "execution_count": null,
   "id": "c7075f7e",
   "metadata": {},
   "outputs": [],
   "source": [
    "data_2018['self_employed'] = data_2018['self_employed'].astype(\"int32\")\n",
    "data_2018['is_tech_company'] = data_2018['is_tech_company'].astype(\"int32\")\n",
    "data_2018['is_tech_role'] = data_2018['is_tech_role'].astype(\"int32\")\n",
    "data_2018['age'] = data_2018['age'].astype(\"int32\")\n",
    "data_2018['mh_importance'] = data_2018['mh_importance'].astype(\"int32\")\n",
    "\n",
    "data_2018['employee_count'] = data_2018['employee_count'].replace(employee_count_dict)\n",
    "\n",
    "data_2018['provide_mh_benefits'] = data_2018['provide_mh_benefits'].replace(yes_no_mapping)\n",
    "data_2018['know_mh_coverage'] = data_2018['know_mh_coverage'].replace(yes_no_mapping)\n",
    "data_2018['formal_discuss_mh'] = data_2018['formal_discuss_mh'].replace(yes_no_mapping)\n",
    "data_2018['offer_mh_learning_resources'] = data_2018['offer_mh_learning_resources'].replace(yes_no_mapping)\n",
    "\n",
    "data_2018['mh_leave_difficult'] = data_2018['mh_leave_difficult'].replace(difficulty_mapping)\n",
    "\n",
    "data_2018['discuss_mh_with_supervisor'] = data_2018['discuss_mh_with_supervisor'].replace(yes_no_maybe_mapping)\n",
    "data_2018['discuss_mh_with_coworkers'] = data_2018['discuss_mh_with_coworkers'].replace(yes_no_maybe_mapping)\n",
    "\n",
    "data_2018['has_mh_disorder'] = data_2018['has_mh_disorder'].replace(yes_no_possibly_mapping)\n",
    "\n",
    "data_2018['believed_mh_disorder'] = data_2018['believed_mh_disorder'].apply(tuple)\n",
    "data_2018['diagnosed_mh_disorder'] = data_2018['diagnosed_mh_disorder'].apply(tuple)"
   ]
  },
  {
   "cell_type": "code",
   "execution_count": null,
   "id": "c173267c",
   "metadata": {},
   "outputs": [],
   "source": [
    "male = ['male', 'Male', 'Ostensibly Male', 'male, born with xy chromosoms', 'Malel', 'M',\n",
    "       'MALE','m', 'Male (or female, or both)', 'Trans man', 'Cis-male', 'Male ',\n",
    "       'cis male', 'Cis Male', 'Man', 'Demiguy', 'Cisgender male']\n",
    "female = ['Female', 'female', 'Female ', 'Woman', 'woman', 'F', 'f',\n",
    "       'I identify as female', '*shrug emoji* (F)',\n",
    "       'Female/gender non-binary.', 'Cis woman', \n",
    "       'Female (cisgender)', 'Cis-Female', 'Cisgendered woman',\n",
    "       'Trans woman', 'Trans female', \n",
    "       'She/her/they/them', 'Cis female ',\n",
    "       'cisgender female', 'Nonbinary/femme',\n",
    "       'gender non-conforming woman']\n",
    "\n",
    "data_2018['gender'] = data_2018['gender'].apply(gender_standardization, args=(male, female))"
   ]
  },
  {
   "cell_type": "markdown",
   "id": "0fe82ab0",
   "metadata": {},
   "source": [
    "#### 2019"
   ]
  },
  {
   "cell_type": "code",
   "execution_count": null,
   "id": "f2513c13",
   "metadata": {},
   "outputs": [],
   "source": [
    "data_2019['self_employed'] = data_2019['self_employed'].astype(\"int32\")\n",
    "data_2019['is_tech_company'] = data_2019['is_tech_company'].astype(\"int32\")\n",
    "data_2019['is_tech_role'] = data_2019['is_tech_role'].astype(\"int32\")\n",
    "data_2019['age'] = data_2019['age'].astype(\"int32\")\n",
    "data_2019['mh_importance'] = data_2019['mh_importance'].astype(\"int32\")\n",
    "\n",
    "data_2019['employee_count'] = data_2019['employee_count'].replace(employee_count_dict)\n",
    "\n",
    "data_2019['provide_mh_benefits'] = data_2019['provide_mh_benefits'].replace(yes_no_mapping)\n",
    "data_2019['know_mh_coverage'] = data_2019['know_mh_coverage'].replace(yes_no_mapping)\n",
    "data_2019['formal_discuss_mh'] = data_2019['formal_discuss_mh'].replace(yes_no_mapping)\n",
    "data_2019['offer_mh_learning_resources'] = data_2019['offer_mh_learning_resources'].replace(yes_no_mapping)\n",
    "\n",
    "data_2019['mh_leave_difficult'] = data_2019['mh_leave_difficult'].replace(difficulty_mapping)\n",
    "\n",
    "data_2019['discuss_mh_with_supervisor'] = data_2019['discuss_mh_with_supervisor'].replace(yes_no_maybe_mapping)\n",
    "data_2019['discuss_mh_with_coworkers'] = data_2019['discuss_mh_with_coworkers'].replace(yes_no_maybe_mapping)\n",
    "\n",
    "data_2019['has_mh_disorder'] = data_2019['has_mh_disorder'].replace(yes_no_possibly_mapping)\n",
    "\n",
    "data_2019['believed_mh_disorder'] = data_2019['believed_mh_disorder'].apply(standardize_disorders)\n",
    "data_2019['diagnosed_mh_disorder'] = data_2019['diagnosed_mh_disorder'].apply(standardize_disorders)\n",
    "\n",
    "data_2019['believed_mh_disorder'] = data_2019['believed_mh_disorder'].apply(tuple)\n",
    "data_2019['diagnosed_mh_disorder'] = data_2019['diagnosed_mh_disorder'].apply(tuple)"
   ]
  },
  {
   "cell_type": "code",
   "execution_count": null,
   "id": "e314aef2",
   "metadata": {},
   "outputs": [],
   "source": [
    "male = ['Male', 'male', 'm', 'M',\n",
    " 'Let\\'s keep it simple and say \"male\"', 'Identify as male',\n",
    " 'Male ', 'Masculine', 'Cishet male', \n",
    " 'Man', 'cis male', 'Cis Male', 'Trans man', 'man',\n",
    " 'masculino', 'Make',\n",
    " 'CIS Male']\n",
    "female = ['female', 'Female', 'F', 'f',\n",
    " 'Woman', 'Female-identified', 'woman', 'cis woman',\n",
    " 'Agender trans woman', 'Female ', 'femmina', 'Femile' 'Female (cis)']\n",
    "\n",
    "data_2019['gender'] = data_2019['gender'].apply(gender_standardization, args=(male, female))"
   ]
  },
  {
   "cell_type": "markdown",
   "id": "d10328ac",
   "metadata": {},
   "source": [
    "#### 2020"
   ]
  },
  {
   "cell_type": "code",
   "execution_count": null,
   "id": "71147495",
   "metadata": {},
   "outputs": [],
   "source": [
    "data_2020['self_employed'] = data_2020['self_employed'].astype(\"int32\")\n",
    "data_2020['is_tech_company'] = data_2020['is_tech_company'].astype(\"int32\")\n",
    "data_2020['is_tech_role'] = data_2020['is_tech_role'].astype(\"int32\")\n",
    "data_2020['age'] = data_2020['age'].astype(\"int32\")\n",
    "data_2020['mh_importance'] = data_2020['mh_importance'].astype(\"int32\")\n",
    "\n",
    "data_2020['employee_count'] = data_2020['employee_count'].replace(employee_count_dict)\n",
    "\n",
    "data_2020['provide_mh_benefits'] = data_2020['provide_mh_benefits'].replace(yes_no_mapping)\n",
    "data_2020['know_mh_coverage'] = data_2020['know_mh_coverage'].replace(yes_no_mapping)\n",
    "data_2020['formal_discuss_mh'] = data_2020['formal_discuss_mh'].replace(yes_no_mapping)\n",
    "data_2020['offer_mh_learning_resources'] = data_2020['offer_mh_learning_resources'].replace(yes_no_mapping)\n",
    "\n",
    "data_2020['mh_leave_difficult'] = data_2020['mh_leave_difficult'].replace(difficulty_mapping)\n",
    "\n",
    "data_2020['discuss_mh_with_supervisor'] = data_2020['discuss_mh_with_supervisor'].replace(yes_no_maybe_mapping)\n",
    "data_2020['discuss_mh_with_coworkers'] = data_2020['discuss_mh_with_coworkers'].replace(yes_no_maybe_mapping)\n",
    "\n",
    "data_2020['has_mh_disorder'] = data_2020['has_mh_disorder'].replace(yes_no_possibly_mapping)\n",
    "data_2020['believed_mh_disorder'] = data_2020['believed_mh_disorder'].apply(tuple)\n",
    "data_2020['diagnosed_mh_disorder'] = data_2020['diagnosed_mh_disorder'].apply(tuple)"
   ]
  },
  {
   "cell_type": "code",
   "execution_count": null,
   "id": "3c64a43c",
   "metadata": {},
   "outputs": [],
   "source": [
    "male = ['Male', 'male', 'mail', 'M', 'm', 'mostly male', 'cisgender male', 'MAle']\n",
    "female = ['female', 'Female', 'F', 'f', 'Woman', 'FEMALE', 'female, she/her']\n",
    "\n",
    "data_2020['gender'] = data_2020['gender'].apply(gender_standardization, args=(male, female))"
   ]
  },
  {
   "cell_type": "markdown",
   "id": "a5ef7a97",
   "metadata": {},
   "source": [
    "Taking a brief look at our standardized data"
   ]
  },
  {
   "cell_type": "code",
   "execution_count": null,
   "id": "3764432e",
   "metadata": {},
   "outputs": [],
   "source": [
    "data_2016.head()"
   ]
  },
  {
   "cell_type": "code",
   "execution_count": null,
   "id": "f3483416",
   "metadata": {},
   "outputs": [],
   "source": [
    "data_2016.describe()"
   ]
  },
  {
   "cell_type": "code",
   "execution_count": null,
   "id": "6c23f7c2",
   "metadata": {},
   "outputs": [],
   "source": [
    "data_2017.head()"
   ]
  },
  {
   "cell_type": "code",
   "execution_count": null,
   "id": "f785ef2e",
   "metadata": {},
   "outputs": [],
   "source": [
    "data_2017.describe()"
   ]
  },
  {
   "cell_type": "code",
   "execution_count": null,
   "id": "084491f0",
   "metadata": {},
   "outputs": [],
   "source": [
    "data_2018.head()"
   ]
  },
  {
   "cell_type": "code",
   "execution_count": null,
   "id": "e3d2cbd3",
   "metadata": {},
   "outputs": [],
   "source": [
    "data_2018.describe()"
   ]
  },
  {
   "cell_type": "code",
   "execution_count": null,
   "id": "d52230ae",
   "metadata": {},
   "outputs": [],
   "source": [
    "data_2019.head()"
   ]
  },
  {
   "cell_type": "code",
   "execution_count": null,
   "id": "2038c5e4",
   "metadata": {},
   "outputs": [],
   "source": [
    "data_2019.describe()"
   ]
  },
  {
   "cell_type": "code",
   "execution_count": null,
   "id": "e301785c",
   "metadata": {},
   "outputs": [],
   "source": [
    "data_2020.head()"
   ]
  },
  {
   "cell_type": "code",
   "execution_count": null,
   "id": "5a2f30e9",
   "metadata": {},
   "outputs": [],
   "source": [
    "data_2020.describe()"
   ]
  },
  {
   "cell_type": "markdown",
   "id": "8a605f19",
   "metadata": {},
   "source": [
    "Now that the data is standardized, we can merge it into one dataframe to perform our analysis."
   ]
  },
  {
   "cell_type": "markdown",
   "id": "dd679b4c",
   "metadata": {},
   "source": [
    "## Merging Dataframes"
   ]
  },
  {
   "cell_type": "markdown",
   "id": "e0ae40ee",
   "metadata": {},
   "source": [
    "First, we need to make sure we label each year with a year timestamp so the data is still groupable by year."
   ]
  },
  {
   "cell_type": "code",
   "execution_count": null,
   "id": "2708e71d",
   "metadata": {},
   "outputs": [],
   "source": [
    "data_2016['year'] = datetime.datetime(2016, 1, 1)\n",
    "data_2017['year'] = datetime.datetime(2017, 1, 1)\n",
    "data_2018['year'] = datetime.datetime(2018, 1, 1)\n",
    "data_2019['year'] = datetime.datetime(2019, 1, 1)\n",
    "data_2020['year'] = datetime.datetime(2020, 1, 1)"
   ]
  },
  {
   "cell_type": "markdown",
   "id": "c48585f9",
   "metadata": {},
   "source": [
    "Now we merge the dataframes"
   ]
  },
  {
   "cell_type": "code",
   "execution_count": null,
   "id": "cf525cbd",
   "metadata": {},
   "outputs": [],
   "source": [
    "merged_df = data_2016.merge(data_2017, how='outer').merge(data_2018, how='outer').merge(data_2019, how='outer').merge(data_2020, how='outer')"
   ]
  },
  {
   "cell_type": "code",
   "execution_count": null,
   "id": "94c00f23",
   "metadata": {},
   "outputs": [],
   "source": [
    "merged_df.shape"
   ]
  },
  {
   "cell_type": "markdown",
   "id": "611f4ca9",
   "metadata": {},
   "source": [
    "We have the correct number of rows, now we do a sanity check to ensure everything was merged as expected."
   ]
  },
  {
   "cell_type": "code",
   "execution_count": null,
   "id": "8a092df3",
   "metadata": {},
   "outputs": [],
   "source": [
    "merged_df.head()"
   ]
  },
  {
   "cell_type": "code",
   "execution_count": null,
   "id": "5e144d61",
   "metadata": {},
   "outputs": [],
   "source": [
    "merged_df.describe()"
   ]
  },
  {
   "cell_type": "markdown",
   "id": "184c1760",
   "metadata": {},
   "source": [
    "Our cleaned data is now merged and ready for analysis."
   ]
  },
  {
   "cell_type": "markdown",
   "id": "1641fe44",
   "metadata": {},
   "source": [
    "## Data Analysis"
   ]
  },
  {
   "cell_type": "code",
   "execution_count": null,
   "id": "7cba99f1",
   "metadata": {},
   "outputs": [],
   "source": [
    "average_company_size = merged_df[merged_df['employee_count'] != -1].groupby(['year'])['employee_count'].mean()"
   ]
  },
  {
   "cell_type": "code",
   "execution_count": null,
   "id": "885ce280",
   "metadata": {},
   "outputs": [],
   "source": [
    "average_company_size.plot(x='year')\n",
    "sns.despine()"
   ]
  },
  {
   "cell_type": "code",
   "execution_count": null,
   "id": "f6e4bb5a",
   "metadata": {},
   "outputs": [],
   "source": [
    "sns.lineplot(x='year',y='employee_count', data=(merged_df[merged_df['employee_count'] != -1]))\n",
    "sns.despine()"
   ]
  },
  {
   "cell_type": "code",
   "execution_count": null,
   "id": "74ae36be",
   "metadata": {
    "scrolled": false
   },
   "outputs": [],
   "source": [
    "to_1D(merged_df['believed_mh_disorder']).value_counts().plot(kind='bar')"
   ]
  },
  {
   "cell_type": "code",
   "execution_count": null,
   "id": "c86f16c3",
   "metadata": {},
   "outputs": [],
   "source": [
    "to_1D(merged_df['diagnosed_mh_disorder']).value_counts().plot(kind='bar')"
   ]
  },
  {
   "cell_type": "code",
   "execution_count": null,
   "id": "cb3e6629",
   "metadata": {},
   "outputs": [],
   "source": [
    "merged_df['gender'].value_counts().plot(kind='bar')"
   ]
  },
  {
   "cell_type": "code",
   "execution_count": null,
   "id": "e24b9ad9",
   "metadata": {},
   "outputs": [],
   "source": [
    "merged_df['gender'].value_counts()"
   ]
  },
  {
   "cell_type": "code",
   "execution_count": null,
   "id": "2a1b7378",
   "metadata": {},
   "outputs": [],
   "source": []
  }
 ],
 "metadata": {
  "kernelspec": {
   "display_name": "Python 3 (ipykernel)",
   "language": "python",
   "name": "python3"
  },
  "language_info": {
   "codemirror_mode": {
    "name": "ipython",
    "version": 3
   },
   "file_extension": ".py",
   "mimetype": "text/x-python",
   "name": "python",
   "nbconvert_exporter": "python",
   "pygments_lexer": "ipython3",
   "version": "3.8.12"
  }
 },
 "nbformat": 4,
 "nbformat_minor": 5
}
