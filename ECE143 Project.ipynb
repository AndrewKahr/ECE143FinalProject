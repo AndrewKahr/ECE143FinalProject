{
 "cells": [
  {
   "cell_type": "markdown",
   "id": "c996e347",
   "metadata": {},
   "source": [
    "# Amazing Title Goes Here"
   ]
  },
  {
   "cell_type": "markdown",
   "id": "c46c5a5b",
   "metadata": {},
   "source": [
    "- Andrew Kahr\n",
    "- Puja Shukla\n",
    "- Luoyuan Hu\n",
    "- Canwei Zhang\n",
    "- Yufan Jiang"
   ]
  },
  {
   "cell_type": "markdown",
   "id": "0ce70dca",
   "metadata": {},
   "source": [
    "## Overview"
   ]
  },
  {
   "cell_type": "markdown",
   "id": "37f2da41",
   "metadata": {},
   "source": [
    "What we're doing and why"
   ]
  },
  {
   "cell_type": "markdown",
   "id": "e835e49c",
   "metadata": {},
   "source": [
    "## Research Question"
   ]
  },
  {
   "cell_type": "markdown",
   "id": "8b5e673c",
   "metadata": {},
   "source": [
    "Our research question"
   ]
  },
  {
   "cell_type": "markdown",
   "id": "4fc51e3c",
   "metadata": {},
   "source": [
    "## Datasets"
   ]
  },
  {
   "cell_type": "markdown",
   "id": "d2ba082e",
   "metadata": {},
   "source": [
    "Details about our dataset"
   ]
  },
  {
   "cell_type": "markdown",
   "id": "9a68ef6e",
   "metadata": {},
   "source": [
    "## Setup"
   ]
  },
  {
   "cell_type": "code",
   "execution_count": null,
   "id": "c5fe6cb8",
   "metadata": {},
   "outputs": [],
   "source": [
    "import numpy as np\n",
    "import pandas as pd\n",
    "import datetime\n",
    "\n",
    "import seaborn as sns\n",
    "import matplotlib.pyplot as plt"
   ]
  },
  {
   "cell_type": "code",
   "execution_count": null,
   "id": "2b8dd7d5",
   "metadata": {},
   "outputs": [],
   "source": [
    "# Graph configuration\n",
    "plt.rcParams['figure.figsize'] = (10, 8)\n",
    "%matplotlib inline\n",
    "%config InlineBackend.figure_format ='retina'\n",
    "\n",
    "sns.set(context = 'talk', style='white')"
   ]
  },
  {
   "cell_type": "code",
   "execution_count": null,
   "id": "8866eeb6",
   "metadata": {},
   "outputs": [],
   "source": [
    "data_2016 = pd.read_csv('data/OSMI 2016 Mental Health in Tech Survey Results.csv')\n",
    "data_2017 = pd.read_csv('data/OSMI 2017 Mental Health in Tech Survey Results.csv')\n",
    "data_2018 = pd.read_csv('data/OSMI 2018 Mental Health in Tech Survey Results.csv')\n",
    "data_2019 = pd.read_csv('data/OSMI 2019 Mental Health in Tech Survey Results.csv')\n",
    "data_2020 = pd.read_csv('data/OSMI 2020 Mental Health in Tech Survey Results.csv')"
   ]
  },
  {
   "cell_type": "markdown",
   "id": "69c30051",
   "metadata": {},
   "source": [
    "## Validating Import"
   ]
  },
  {
   "cell_type": "code",
   "execution_count": null,
   "id": "653a0c76",
   "metadata": {},
   "outputs": [],
   "source": [
    "data_2016.shape"
   ]
  },
  {
   "cell_type": "code",
   "execution_count": null,
   "id": "6d94d900",
   "metadata": {},
   "outputs": [],
   "source": [
    "data_2017.shape"
   ]
  },
  {
   "cell_type": "code",
   "execution_count": null,
   "id": "f72b8b10",
   "metadata": {},
   "outputs": [],
   "source": [
    "data_2018.shape"
   ]
  },
  {
   "cell_type": "code",
   "execution_count": null,
   "id": "01be34e0",
   "metadata": {},
   "outputs": [],
   "source": [
    "data_2019.shape"
   ]
  },
  {
   "cell_type": "code",
   "execution_count": null,
   "id": "0a5e5d2d",
   "metadata": {},
   "outputs": [],
   "source": [
    "data_2020.shape"
   ]
  },
  {
   "cell_type": "markdown",
   "id": "9989abb8",
   "metadata": {},
   "source": [
    "Data size matches what the site indicates for number of responses and questions."
   ]
  },
  {
   "cell_type": "code",
   "execution_count": null,
   "id": "5e7166fe",
   "metadata": {},
   "outputs": [],
   "source": [
    "data_2016.head()"
   ]
  },
  {
   "cell_type": "code",
   "execution_count": null,
   "id": "523a3248",
   "metadata": {},
   "outputs": [],
   "source": [
    "data_2017.head()"
   ]
  },
  {
   "cell_type": "code",
   "execution_count": null,
   "id": "a1a1bded",
   "metadata": {},
   "outputs": [],
   "source": [
    "data_2018.head()"
   ]
  },
  {
   "cell_type": "code",
   "execution_count": null,
   "id": "81ccb0a2",
   "metadata": {},
   "outputs": [],
   "source": [
    "data_2019.head()"
   ]
  },
  {
   "cell_type": "code",
   "execution_count": null,
   "id": "39bd8853",
   "metadata": {
    "scrolled": false
   },
   "outputs": [],
   "source": [
    "data_2020.head()"
   ]
  },
  {
   "cell_type": "markdown",
   "id": "030adf6a",
   "metadata": {},
   "source": [
    "Now we validate we have all the columns"
   ]
  },
  {
   "cell_type": "code",
   "execution_count": null,
   "id": "40566737",
   "metadata": {
    "scrolled": true
   },
   "outputs": [],
   "source": [
    "list(data_2016.columns)"
   ]
  },
  {
   "cell_type": "code",
   "execution_count": null,
   "id": "ce741d49",
   "metadata": {},
   "outputs": [],
   "source": [
    "list(data_2017.columns)"
   ]
  },
  {
   "cell_type": "code",
   "execution_count": null,
   "id": "6b2ab5c9",
   "metadata": {},
   "outputs": [],
   "source": [
    "list(data_2018.columns)"
   ]
  },
  {
   "cell_type": "code",
   "execution_count": null,
   "id": "35ba3bd0",
   "metadata": {
    "scrolled": true
   },
   "outputs": [],
   "source": [
    "list(data_2019.columns)"
   ]
  },
  {
   "cell_type": "code",
   "execution_count": null,
   "id": "f029606e",
   "metadata": {},
   "outputs": [],
   "source": [
    "list(data_2020.columns)"
   ]
  },
  {
   "cell_type": "markdown",
   "id": "dcf4cf8b",
   "metadata": {},
   "source": [
    "It appears the data has imported correctly, now we need to parse out the data we are after."
   ]
  },
  {
   "cell_type": "markdown",
   "id": "ed545d25",
   "metadata": {},
   "source": [
    "## Data Cleaning"
   ]
  },
  {
   "cell_type": "markdown",
   "id": "7afc8dab",
   "metadata": {},
   "source": [
    "### Dropping Columns"
   ]
  },
  {
   "cell_type": "code",
   "execution_count": null,
   "id": "5b6f7c81",
   "metadata": {},
   "outputs": [],
   "source": [
    "important_disorders = set(['Mood Disorder (Depression, Bipolar Disorder, etc)', \n",
    "                           'Anxiety Disorder (Generalized, Social, Phobia, etc)',\n",
    "                           'Attention Deficit Hyperactivity Disorder', \n",
    "                           'Post-traumatic Stress Disorder',\n",
    "                           'Obsessive-Compulsive Disorder',\n",
    "                           'Stress Response Syndromes',\n",
    "                           'Personality Disorder (Borderline, Antisocial, Paranoid, etc)',\n",
    "                           'Substance Use Disorder',\n",
    "                           'Addictive Disorder',\n",
    "                           'Eating Disorder (Anorexia, Bulimia, etc)',\n",
    "                           'Dissociative Disorder',\n",
    "                           'Psychotic Disorder (Schizophrenia, Schizoaffective, etc)'])"
   ]
  },
  {
   "cell_type": "markdown",
   "id": "1b42e0fc",
   "metadata": {},
   "source": [
    "#### 2016"
   ]
  },
  {
   "cell_type": "code",
   "execution_count": null,
   "id": "0fe9a849",
   "metadata": {},
   "outputs": [],
   "source": [
    "valid_columns = ['Are you self-employed?',\n",
    "       'How many employees does your company or organization have?',\n",
    "       'Is your employer primarily a tech company/organization?',\n",
    "       'Is your primary role within your company related to tech/IT?',\n",
    "       'Does your employer provide mental health benefits as part of healthcare coverage?',\n",
    "       'Do you know the options for mental health care available under your employer-provided coverage?',\n",
    "       'Has your employer ever formally discussed mental health (for example, as part of a wellness campaign or other official communication)?',\n",
    "       'Does your employer offer resources to learn more about mental health concerns and options for seeking help?',\n",
    "       'If a mental health issue prompted you to request a medical leave from work, asking for that leave would be:',\n",
    "       'Would you feel comfortable discussing a mental health disorder with your direct supervisor(s)?',\n",
    "       'Would you feel comfortable discussing a mental health disorder with your coworkers?',\n",
    "       'Do you currently have a mental health disorder?',\n",
    "       'If maybe, what condition(s) do you believe you have?',\n",
    "       'If yes, what condition(s) have you been diagnosed with?',\n",
    "       'What is your age?', 'What is your gender?',\n",
    "       'What country do you live in?',\n",
    "       'What US state or territory do you live in?',\n",
    "       'What country do you work in?',\n",
    "       'What US state or territory do you work in?']\n",
    "data_2016 = data_2016[valid_columns]"
   ]
  },
  {
   "cell_type": "markdown",
   "id": "36d7751f",
   "metadata": {},
   "source": [
    "#### 2017"
   ]
  },
  {
   "cell_type": "markdown",
   "id": "da5e2d18",
   "metadata": {},
   "source": [
    "We need to do some work first to collapse the disorders into a single column"
   ]
  },
  {
   "cell_type": "code",
   "execution_count": null,
   "id": "7880f2e8",
   "metadata": {},
   "outputs": [],
   "source": [
    "data_2017['believed_mh_disorder'] = [[x if ((isinstance(x, str) and x in important_disorders)) else 'Other' for x in disorders if isinstance(x, str)] for disorders in data_2017.loc[:, 'Anxiety Disorder (Generalized, Social, Phobia, etc).1':'Other.1'].values.tolist()]\n",
    "data_2017['diagnosed_mh_disorder'] = [[x if ((isinstance(x, str) and x in important_disorders)) else 'Other' for x in disorders if isinstance(x, str)] for disorders in data_2017.loc[:, 'Anxiety Disorder (Generalized, Social, Phobia, etc).2':'Other.2'].values.tolist()]"
   ]
  },
  {
   "cell_type": "code",
   "execution_count": null,
   "id": "8b97be01",
   "metadata": {},
   "outputs": [],
   "source": [
    "valid_columns = [\n",
    "        'Are you self-employed?',\n",
    "        'How many employees does your company or organization have?',\n",
    "        'Is your employer primarily a tech company/organization?',\n",
    "        'Is your primary role within your company related to tech/IT?',\n",
    "        'Does your employer provide mental health benefits\\xa0as part of healthcare coverage?',\n",
    "        'Do you know the options for mental health care available under your employer-provided health coverage?',\n",
    "        'Has your employer ever formally discussed mental health (for example, as part of a wellness campaign or other official communication)?',\n",
    "        'Does your employer offer resources to learn more about mental health disorders and options for seeking help?',\n",
    "        'Overall, how much importance does your employer place on mental health?',\n",
    "        'If a mental health issue prompted you to request a medical leave from work, how easy or difficult would it be to ask for that leave?',\n",
    "        'Would you feel comfortable discussing a mental health issue with your coworkers?',\n",
    "        'Would you feel comfortable discussing a mental health issue with your direct supervisor(s)?',\n",
    "        'Do you currently have a mental health disorder?',\n",
    "        'believed_mh_disorder',\n",
    "        'diagnosed_mh_disorder',\n",
    "        'What is your age?',\n",
    "        'What is your gender?',\n",
    "        'What country do you live in?',\n",
    "        'What US state or territory do you live in?',\n",
    "        'What country do you work in?',\n",
    "        'What US state or territory do you work in?',\n",
    "       ]"
   ]
  },
  {
   "cell_type": "code",
   "execution_count": null,
   "id": "0001915c",
   "metadata": {},
   "outputs": [],
   "source": [
    "data_2017.columns=data_2017.columns.str.replace('</strong>','')\n",
    "data_2017.columns=data_2017.columns.str.replace('<strong>','')\n",
    "data_2017=data_2017[valid_columns]"
   ]
  },
  {
   "cell_type": "markdown",
   "id": "af21a4f7",
   "metadata": {},
   "source": [
    "#### 2018"
   ]
  },
  {
   "cell_type": "markdown",
   "id": "a337de6d",
   "metadata": {},
   "source": [
    "We need to do some work first to collapse the disorders into a single column"
   ]
  },
  {
   "cell_type": "code",
   "execution_count": null,
   "id": "3577efda",
   "metadata": {},
   "outputs": [],
   "source": [
    "data_2018['believed_mh_disorder'] = [[x if ((isinstance(x, str) and x in important_disorders)) else 'Other' for x in disorders if isinstance(x, str)] for disorders in data_2018.loc[:, 'Anxiety Disorder (Generalized, Social, Phobia, etc).1':'Other.1'].values.tolist()]\n",
    "data_2018['diagnosed_mh_disorder'] = [[x if ((isinstance(x, str) and x in important_disorders)) else 'Other' for x in disorders if isinstance(x, str)] for disorders in data_2018.loc[:, 'Anxiety Disorder (Generalized, Social, Phobia, etc).2':'Other.2'].values.tolist()]"
   ]
  },
  {
   "cell_type": "code",
   "execution_count": null,
   "id": "9471e346",
   "metadata": {},
   "outputs": [],
   "source": [
    "valid_columns = ['<strong>Are you self-employed?</strong>',\n",
    "       'How many employees does your company or organization have?',\n",
    "       'Is your employer primarily a tech company/organization?',\n",
    "       'Is your primary role within your company related to tech/IT?',\n",
    "       'Does your employer provide mental health benefits as part of healthcare coverage?',\n",
    "       'Do you know the options for mental health care available under your employer-provided health coverage?',\n",
    "       'Has your employer ever formally discussed mental health (for example, as part of a wellness campaign or other official communication)?',\n",
    "       'Does your employer offer resources to learn more about mental health disorders and options for seeking help?',\n",
    "       'If a mental health issue prompted you to request a medical leave from work, how easy or difficult would it be to ask for that leave?',\n",
    "       'Would you feel comfortable discussing a mental health issue with your direct supervisor(s)?',\n",
    "       'Would you feel comfortable discussing a mental health issue with your coworkers?',\n",
    "       'Overall, how much importance does your employer place on mental health?',\n",
    "       'Do you currently have a mental health disorder?',\n",
    "       'believed_mh_disorder',\n",
    "       'diagnosed_mh_disorder',\n",
    "       'What is your age?', 'What is your gender?',\n",
    "       'What country do you <strong>live</strong> in?',\n",
    "       'What US state or territory do you <strong>live</strong> in?',\n",
    "       'What country do you <strong>work</strong> in?',\n",
    "       'What US state or territory do you <strong>work</strong> in?']\n",
    "data_2018 = data_2018[valid_columns]"
   ]
  },
  {
   "cell_type": "markdown",
   "id": "21e00a12",
   "metadata": {},
   "source": [
    "#### 2019"
   ]
  },
  {
   "cell_type": "code",
   "execution_count": null,
   "id": "341508c4",
   "metadata": {},
   "outputs": [],
   "source": [
    "valid_columns = ['*Are you self-employed?*',\n",
    "       'How many employees does your company or organization have?',\n",
    "       'Is your employer primarily a tech company/organization?',\n",
    "       'Is your primary role within your company related to tech/IT?',\n",
    "       'Does your employer provide mental health benefits as part of healthcare coverage?',\n",
    "       'Do you know the options for mental health care available under your employer-provided health coverage?',\n",
    "       'Has your employer ever formally discussed mental health (for example, as part of a wellness campaign or other official communication)?',\n",
    "       'Does your employer offer resources to learn more about mental health disorders and options for seeking help?',\n",
    "       'If a mental health issue prompted you to request a medical leave from work, how easy or difficult would it be to ask for that leave?',\n",
    "       'Would you feel comfortable discussing a mental health issue with your direct supervisor(s)?',\n",
    "       'Would you feel comfortable discussing a mental health issue with your coworkers?',\n",
    "       'Overall, how much importance does your employer place on mental health?',\n",
    "       'Do you *currently* have a mental health disorder?',\n",
    "       '*If possibly, what disorder(s) do you believe you have?*',\n",
    "       '*If so, what disorder(s) were you diagnosed with?*',\n",
    "       'What is your age?', 'What is your gender?',\n",
    "       'What country do you *live* in?',\n",
    "       'What US state or territory do you *live* in?',\n",
    "       'What country do you *work* in?',\n",
    "       'What US state or territory do you *work* in?']\n",
    "data_2019 = data_2019[valid_columns]"
   ]
  },
  {
   "cell_type": "markdown",
   "id": "4db825a0",
   "metadata": {},
   "source": [
    "#### 2020"
   ]
  },
  {
   "cell_type": "markdown",
   "id": "7ed4db92",
   "metadata": {},
   "source": [
    "We need to do some work first to collapse the disorders into a single column"
   ]
  },
  {
   "cell_type": "code",
   "execution_count": null,
   "id": "9d1a1de5",
   "metadata": {},
   "outputs": [],
   "source": [
    "data_2020['believed_mh_disorder'] = [[x if ((isinstance(x, str) and x in important_disorders)) else 'Other' for x in disorders if isinstance(x, str)] for disorders in data_2020.loc[:, 'Anxiety Disorder (Generalized, Social, Phobia, etc).1':'Other.1'].values.tolist()]\n",
    "data_2020['diagnosed_mh_disorder'] = [[x if ((isinstance(x, str) and x in important_disorders)) else 'Other' for x in disorders if isinstance(x, str)] for disorders in data_2020.loc[:, 'Anxiety Disorder (Generalized, Social, Phobia, etc).2':'Other.2'].values.tolist()]"
   ]
  },
  {
   "cell_type": "code",
   "execution_count": null,
   "id": "78baa71c",
   "metadata": {},
   "outputs": [],
   "source": [
    "valid_columns = ['*Are you self-employed?*',\n",
    "       'How many employees does your company or organization have?',\n",
    "       'Is your employer primarily a tech company/organization?',\n",
    "       'Is your primary role within your company related to tech/IT?',\n",
    "       'Does your employer provide mental health benefits as part of healthcare coverage?',\n",
    "       'Do you know the options for mental health care available under your employer-provided health coverage?',\n",
    "       'Has your employer ever formally discussed mental health (for example, as part of a wellness campaign or other official communication)?',\n",
    "       'Does your employer offer resources to learn more about mental health disorders and options for seeking help?',\n",
    "       'If a mental health issue prompted you to request a medical leave from work, how easy or difficult would it be to ask for that leave?',\n",
    "       'Would you feel comfortable discussing a mental health issue with your direct supervisor(s)?',\n",
    "       'Would you feel comfortable discussing a mental health issue with your coworkers?',\n",
    "       'Overall, how much importance does your employer place on mental health?',\n",
    "       'Do you *currently* have a mental health disorder?',\n",
    "       'believed_mh_disorder',\n",
    "       'diagnosed_mh_disorder',\n",
    "       'What is your age?', 'What is your gender?',\n",
    "       'What country do you *live* in?',\n",
    "       'What US state or territory do you *live* in?',\n",
    "       'What country do you *work* in?',\n",
    "       'What US state or territory do you *work* in?']\n",
    "data_2020 = data_2020[valid_columns]"
   ]
  },
  {
   "cell_type": "markdown",
   "id": "44eab13e",
   "metadata": {},
   "source": [
    "### Validating Column Dropping"
   ]
  },
  {
   "cell_type": "code",
   "execution_count": null,
   "id": "0bcf3836",
   "metadata": {},
   "outputs": [],
   "source": [
    "list(data_2016.columns)"
   ]
  },
  {
   "cell_type": "code",
   "execution_count": null,
   "id": "919f9e42",
   "metadata": {},
   "outputs": [],
   "source": [
    "list(data_2017.columns)"
   ]
  },
  {
   "cell_type": "code",
   "execution_count": null,
   "id": "e8d35905",
   "metadata": {},
   "outputs": [],
   "source": [
    "list(data_2018.columns)"
   ]
  },
  {
   "cell_type": "code",
   "execution_count": null,
   "id": "7e546154",
   "metadata": {},
   "outputs": [],
   "source": [
    "list(data_2019.columns)"
   ]
  },
  {
   "cell_type": "code",
   "execution_count": null,
   "id": "b559ea23",
   "metadata": {},
   "outputs": [],
   "source": [
    "list(data_2020.columns)"
   ]
  },
  {
   "cell_type": "markdown",
   "id": "5e269f87",
   "metadata": {},
   "source": [
    "Ensuring we have the same number of columns across each dataset"
   ]
  },
  {
   "cell_type": "code",
   "execution_count": null,
   "id": "e13856ab",
   "metadata": {},
   "outputs": [],
   "source": [
    "len(data_2017.columns) == len(data_2018.columns) == len(data_2019.columns) == len(data_2020.columns)"
   ]
  },
  {
   "cell_type": "markdown",
   "id": "cc953717",
   "metadata": {},
   "source": [
    "We leave out 2016 in this check because it is missing the question \"Overall, how much importance does your employer place on mental health?\""
   ]
  },
  {
   "cell_type": "markdown",
   "id": "e7f75bad",
   "metadata": {},
   "source": [
    "We are now ready to perform data standardization"
   ]
  },
  {
   "cell_type": "markdown",
   "id": "c65ae36b",
   "metadata": {},
   "source": [
    "### Standardizing Data"
   ]
  },
  {
   "cell_type": "markdown",
   "id": "576f2d65",
   "metadata": {},
   "source": [
    "First, some helper functions to make the standardization easier"
   ]
  },
  {
   "cell_type": "code",
   "execution_count": null,
   "id": "d275cd23",
   "metadata": {},
   "outputs": [],
   "source": [
    "def gender_standardization(gender, male_list, female_list):\n",
    "    \"\"\"\n",
    "    Standardizes genders to integer values based on the string lists\n",
    "    provided in male_list and female_list. Returns 0 for male, 1 for female,\n",
    "    2 for other, and -1 for null entries.\n",
    "    \"\"\"\n",
    "    if gender in male:\n",
    "        return 0\n",
    "    elif gender in female:\n",
    "        return 1\n",
    "    elif isinstance(gender, int) and gender == -1:\n",
    "        return -1\n",
    "    else:\n",
    "        return 2\n",
    "    \n",
    "def standardize_disorders(disorders):\n",
    "    \"\"\"\n",
    "    Standardizes the list of disorders \n",
    "    from a string into a list of strings\n",
    "    \"\"\"\n",
    "    if isinstance(disorders, int):\n",
    "        return []\n",
    "    \n",
    "    disorder_list = []\n",
    "    in_parenthesis = False\n",
    "    disorder = \"\"\n",
    "    for char in disorders:\n",
    "        if (char == \",\" or char == \"|\") and not in_parenthesis:\n",
    "            if disorder.strip() in important_disorders:\n",
    "                disorder_list.append(disorder.strip())\n",
    "            disorder = \"\"\n",
    "            in_parenthesis = False\n",
    "        elif char == \"(\":\n",
    "            in_parenthesis = True\n",
    "            disorder += char\n",
    "        elif char == \")\":\n",
    "            in_parenthesis = False\n",
    "            disorder += char\n",
    "        else:\n",
    "            disorder += char\n",
    "    if disorder.strip() in important_disorders:\n",
    "        disorder_list.append(disorder.strip())\n",
    "    return disorder_list\n",
    "\n",
    "def to_1D(series):\n",
    "    \"\"\"\n",
    "    Converts input to a panda compatible series so functions\n",
    "    like value_counts works on lists\n",
    "    \"\"\"\n",
    "    return pd.Series([x for _list in series for x in _list])"
   ]
  },
  {
   "cell_type": "markdown",
   "id": "20cae8c8",
   "metadata": {},
   "source": [
    "Standard dictionaries to map values to"
   ]
  },
  {
   "cell_type": "code",
   "execution_count": null,
   "id": "3c92f697",
   "metadata": {},
   "outputs": [],
   "source": [
    "employee_count_dict = {'1-5': 0, '6-25': 1, '26-100': 2, '100-500': 3, '500-1000': 4, 'More than 1000': 5}\n",
    "yes_no_mapping = {\"Yes\": 2, \"I don't know\": 1, \"I am not sure\": 1, \"No\": 0, \"Not eligible for coverage / N/A\": 0, \"Not eligible for coverage / NA\": 0}\n",
    "difficulty_mapping = {'Very easy': 3, 'Somewhat easy': 3, 'Neither easy nor difficult': 2, \"I don't know\": 2, 'Somewhat difficult': 0, 'Difficult': 0, 'Very difficult': 0}\n",
    "yes_no_maybe_mapping = {'Yes':2, 'Maybe':1, 'No':0}\n",
    "yes_no_possibly_mapping = {'Yes': 3, 'Maybe': 2, 'Possibly': 2, \"Don't Know\": 1, 'No': 0}"
   ]
  },
  {
   "cell_type": "markdown",
   "id": "3bdc58c4",
   "metadata": {},
   "source": [
    "Now we rename the columns so they're easier to work with in code"
   ]
  },
  {
   "cell_type": "code",
   "execution_count": null,
   "id": "cc8d04f2",
   "metadata": {},
   "outputs": [],
   "source": [
    "column_name_mapping_2016 = {\n",
    "       'Are you self-employed?': 'self_employed',\n",
    "       'How many employees does your company or organization have?': 'employee_count',\n",
    "       'Is your employer primarily a tech company/organization?': 'is_tech_company',\n",
    "       'Is your primary role within your company related to tech/IT?': 'is_tech_role',\n",
    "       'Does your employer provide mental health benefits as part of healthcare coverage?': 'provide_mh_benefits',\n",
    "       'Do you know the options for mental health care available under your employer-provided coverage?': 'know_mh_coverage',\n",
    "       'Has your employer ever formally discussed mental health (for example, as part of a wellness campaign or other official communication)?': \"formal_discuss_mh\",\n",
    "       'Does your employer offer resources to learn more about mental health concerns and options for seeking help?': \"offer_mh_learning_resources\",\n",
    "       'If a mental health issue prompted you to request a medical leave from work, asking for that leave would be:': \"mh_leave_difficult\",\n",
    "       'Would you feel comfortable discussing a mental health disorder with your direct supervisor(s)?': \"discuss_mh_with_supervisor\",\n",
    "       'Would you feel comfortable discussing a mental health disorder with your coworkers?': \"discuss_mh_with_coworkers\",\n",
    "       'Do you currently have a mental health disorder?': \"has_mh_disorder\",\n",
    "       'If maybe, what condition(s) do you believe you have?': \"believed_mh_disorder\",\n",
    "       'If yes, what condition(s) have you been diagnosed with?': \"diagnosed_mh_disorder\",\n",
    "       'What is your age?': \"age\",\n",
    "       'What is your gender?': \"gender\",\n",
    "       'What country do you live in?': \"live_country\",\n",
    "       'What US state or territory do you live in?': \"live_state\",\n",
    "       'What country do you work in?': \"work_country\",\n",
    "       'What US state or territory do you work in?': \"work_state\"\n",
    "}\n",
    "data_2016 = data_2016.rename(columns=column_name_mapping_2016)"
   ]
  },
  {
   "cell_type": "code",
   "execution_count": null,
   "id": "2ade54ff",
   "metadata": {},
   "outputs": [],
   "source": [
    "column_name_mapping_2017 = {\n",
    "       'Are you self-employed?': 'self_employed',\n",
    "       'How many employees does your company or organization have?': 'employee_count',\n",
    "       'Is your employer primarily a tech company/organization?': 'is_tech_company',\n",
    "       'Is your primary role within your company related to tech/IT?': 'is_tech_role',\n",
    "       'Does your employer provide mental health benefits\\xa0as part of healthcare coverage?': 'provide_mh_benefits',\n",
    "       'Do you know the options for mental health care available under your employer-provided health coverage?': 'know_mh_coverage',\n",
    "       'Has your employer ever formally discussed mental health (for example, as part of a wellness campaign or other official communication)?': \"formal_discuss_mh\",\n",
    "       'Does your employer offer resources to learn more about mental health disorders and options for seeking help?': \"offer_mh_learning_resources\",\n",
    "       'If a mental health issue prompted you to request a medical leave from work, how easy or difficult would it be to ask for that leave?': \"mh_leave_difficult\",\n",
    "       'Would you feel comfortable discussing a mental health issue with your direct supervisor(s)?': \"discuss_mh_with_supervisor\",\n",
    "       'Would you feel comfortable discussing a mental health issue with your coworkers?': \"discuss_mh_with_coworkers\",\n",
    "       'Overall, how much importance does your employer place on mental health?': \"mh_importance\",\n",
    "       'Do you currently have a mental health disorder?': \"has_mh_disorder\",\n",
    "       'What is your age?': \"age\",\n",
    "       'What is your gender?': \"gender\",\n",
    "       'What country do you live in?': \"live_country\",\n",
    "       'What US state or territory do you live in?': \"live_state\",\n",
    "       'What is your race?': \"race\",\n",
    "       'What country do you work in?': \"work_country\",\n",
    "       'What US state or territory do you work in?': \"work_state\"\n",
    "}\n",
    "data_2017=data_2017.rename(columns=column_name_mapping_2017)"
   ]
  },
  {
   "cell_type": "code",
   "execution_count": null,
   "id": "1372ae2c",
   "metadata": {},
   "outputs": [],
   "source": [
    "column_name_mapping_2018 = {\n",
    "    '<strong>Are you self-employed?</strong>': 'self_employed',\n",
    "       'How many employees does your company or organization have?': 'employee_count',\n",
    "       'Is your employer primarily a tech company/organization?': 'is_tech_company',\n",
    "       'Is your primary role within your company related to tech/IT?': 'is_tech_role',\n",
    "       'Does your employer provide mental health benefits as part of healthcare coverage?': 'provide_mh_benefits',\n",
    "       'Do you know the options for mental health care available under your employer-provided health coverage?': 'know_mh_coverage',\n",
    "       'Has your employer ever formally discussed mental health (for example, as part of a wellness campaign or other official communication)?': \"formal_discuss_mh\",\n",
    "       'Does your employer offer resources to learn more about mental health disorders and options for seeking help?': \"offer_mh_learning_resources\",\n",
    "       'If a mental health issue prompted you to request a medical leave from work, how easy or difficult would it be to ask for that leave?': \"mh_leave_difficult\",\n",
    "       'Would you feel comfortable discussing a mental health issue with your direct supervisor(s)?': \"discuss_mh_with_supervisor\",\n",
    "       'Would you feel comfortable discussing a mental health issue with your coworkers?': \"discuss_mh_with_coworkers\",\n",
    "       'Overall, how much importance does your employer place on mental health?': \"mh_importance\",\n",
    "       'Do you currently have a mental health disorder?': \"has_mh_disorder\",\n",
    "       'What is your age?': \"age\",\n",
    "       'What is your gender?': \"gender\",\n",
    "       'What country do you <strong>live</strong> in?': \"live_country\",\n",
    "       'What US state or territory do you <strong>live</strong> in?': \"live_state\",\n",
    "       'What country do you <strong>work</strong> in?': \"work_country\",\n",
    "       'What US state or territory do you <strong>work</strong> in?': \"work_state\"\n",
    "}\n",
    "data_2018 = data_2018.rename(columns=column_name_mapping_2018)"
   ]
  },
  {
   "cell_type": "code",
   "execution_count": null,
   "id": "4529b47a",
   "metadata": {},
   "outputs": [],
   "source": [
    "column_name_mapping_2019 = {\n",
    "    '*Are you self-employed?*': 'self_employed',\n",
    "       'How many employees does your company or organization have?': 'employee_count',\n",
    "       'Is your employer primarily a tech company/organization?': 'is_tech_company',\n",
    "       'Is your primary role within your company related to tech/IT?': 'is_tech_role',\n",
    "       'Does your employer provide mental health benefits as part of healthcare coverage?': 'provide_mh_benefits',\n",
    "       'Do you know the options for mental health care available under your employer-provided health coverage?': 'know_mh_coverage',\n",
    "       'Has your employer ever formally discussed mental health (for example, as part of a wellness campaign or other official communication)?': \"formal_discuss_mh\",\n",
    "       'Does your employer offer resources to learn more about mental health disorders and options for seeking help?': \"offer_mh_learning_resources\",\n",
    "       'If a mental health issue prompted you to request a medical leave from work, how easy or difficult would it be to ask for that leave?': \"mh_leave_difficult\",\n",
    "       'Would you feel comfortable discussing a mental health issue with your direct supervisor(s)?': \"discuss_mh_with_supervisor\",\n",
    "       'Would you feel comfortable discussing a mental health issue with your coworkers?': \"discuss_mh_with_coworkers\",\n",
    "       'Overall, how much importance does your employer place on mental health?': \"mh_importance\",\n",
    "       'Do you *currently* have a mental health disorder?': \"has_mh_disorder\",\n",
    "       '*If possibly, what disorder(s) do you believe you have?*': \"believed_mh_disorder\",\n",
    "       '*If so, what disorder(s) were you diagnosed with?*': \"diagnosed_mh_disorder\",\n",
    "       'What is your age?': \"age\",\n",
    "       'What is your gender?': \"gender\",\n",
    "       'What country do you *live* in?': \"live_country\",\n",
    "       'What US state or territory do you *live* in?': \"live_state\",\n",
    "       'What country do you *work* in?': \"work_country\",\n",
    "       'What US state or territory do you *work* in?': \"work_state\"\n",
    "}\n",
    "data_2019 = data_2019.rename(columns=column_name_mapping_2019)"
   ]
  },
  {
   "cell_type": "code",
   "execution_count": null,
   "id": "9f4a0749",
   "metadata": {},
   "outputs": [],
   "source": [
    "column_name_mapping_2020 = {\n",
    "    '*Are you self-employed?*': 'self_employed',\n",
    "       'How many employees does your company or organization have?': 'employee_count',\n",
    "       'Is your employer primarily a tech company/organization?': 'is_tech_company',\n",
    "       'Is your primary role within your company related to tech/IT?': 'is_tech_role',\n",
    "       'Does your employer provide mental health benefits as part of healthcare coverage?': 'provide_mh_benefits',\n",
    "       'Do you know the options for mental health care available under your employer-provided health coverage?': 'know_mh_coverage',\n",
    "       'Has your employer ever formally discussed mental health (for example, as part of a wellness campaign or other official communication)?': \"formal_discuss_mh\",\n",
    "       'Does your employer offer resources to learn more about mental health disorders and options for seeking help?': \"offer_mh_learning_resources\",\n",
    "       'If a mental health issue prompted you to request a medical leave from work, how easy or difficult would it be to ask for that leave?': \"mh_leave_difficult\",\n",
    "       'Would you feel comfortable discussing a mental health issue with your direct supervisor(s)?': \"discuss_mh_with_supervisor\",\n",
    "       'Would you feel comfortable discussing a mental health issue with your coworkers?': \"discuss_mh_with_coworkers\",\n",
    "       'Overall, how much importance does your employer place on mental health?': \"mh_importance\",\n",
    "       'Do you *currently* have a mental health disorder?': \"has_mh_disorder\",\n",
    "       'What is your age?': \"age\",\n",
    "       'What is your gender?': \"gender\",\n",
    "       'What country do you *live* in?': \"live_country\",\n",
    "       'What US state or territory do you *live* in?': \"live_state\",\n",
    "       'What country do you *work* in?': \"work_country\",\n",
    "       'What US state or territory do you *work* in?': \"work_state\"\n",
    "}\n",
    "data_2020 = data_2020.rename(columns=column_name_mapping_2020)"
   ]
  },
  {
   "cell_type": "markdown",
   "id": "0efb80e8",
   "metadata": {},
   "source": [
    "Checking to ensure the column name mapping worked"
   ]
  },
  {
   "cell_type": "code",
   "execution_count": null,
   "id": "e420ab2b",
   "metadata": {},
   "outputs": [],
   "source": [
    "list(data_2016.columns)"
   ]
  },
  {
   "cell_type": "code",
   "execution_count": null,
   "id": "0da0a861",
   "metadata": {},
   "outputs": [],
   "source": [
    "list(data_2017.columns)"
   ]
  },
  {
   "cell_type": "code",
   "execution_count": null,
   "id": "51c545fa",
   "metadata": {},
   "outputs": [],
   "source": [
    "list(data_2018.columns)"
   ]
  },
  {
   "cell_type": "code",
   "execution_count": null,
   "id": "6683a1de",
   "metadata": {},
   "outputs": [],
   "source": [
    "list(data_2019.columns)"
   ]
  },
  {
   "cell_type": "code",
   "execution_count": null,
   "id": "a444c489",
   "metadata": {},
   "outputs": [],
   "source": [
    "list(data_2020.columns)"
   ]
  },
  {
   "cell_type": "markdown",
   "id": "3585d9dd",
   "metadata": {},
   "source": [
    "We can confirm the columns were remapped correctly"
   ]
  },
  {
   "cell_type": "markdown",
   "id": "9baffc77",
   "metadata": {},
   "source": [
    "Now we check for NaNs in our data and replace them with -1 if necessary"
   ]
  },
  {
   "cell_type": "code",
   "execution_count": null,
   "id": "1f25b46b",
   "metadata": {},
   "outputs": [],
   "source": [
    "data_2016.isna().any()"
   ]
  },
  {
   "cell_type": "code",
   "execution_count": null,
   "id": "48c61eb2",
   "metadata": {},
   "outputs": [],
   "source": [
    "data_2016 = data_2016.fillna(-1)"
   ]
  },
  {
   "cell_type": "code",
   "execution_count": null,
   "id": "be7f9b00",
   "metadata": {},
   "outputs": [],
   "source": [
    "data_2017.isna().any()"
   ]
  },
  {
   "cell_type": "code",
   "execution_count": null,
   "id": "60e25f65",
   "metadata": {},
   "outputs": [],
   "source": [
    "data_2017 = data_2017.fillna(-1)"
   ]
  },
  {
   "cell_type": "code",
   "execution_count": null,
   "id": "1baf20da",
   "metadata": {},
   "outputs": [],
   "source": [
    "data_2018.isna().any()"
   ]
  },
  {
   "cell_type": "code",
   "execution_count": null,
   "id": "86a771cd",
   "metadata": {},
   "outputs": [],
   "source": [
    "data_2018 = data_2018.fillna(-1)"
   ]
  },
  {
   "cell_type": "code",
   "execution_count": null,
   "id": "f093c03c",
   "metadata": {},
   "outputs": [],
   "source": [
    "data_2019.isna().any()"
   ]
  },
  {
   "cell_type": "code",
   "execution_count": null,
   "id": "908c9493",
   "metadata": {},
   "outputs": [],
   "source": [
    "data_2019 = data_2019.fillna(-1)"
   ]
  },
  {
   "cell_type": "code",
   "execution_count": null,
   "id": "f8056f1e",
   "metadata": {},
   "outputs": [],
   "source": [
    "data_2020.isna().any()"
   ]
  },
  {
   "cell_type": "code",
   "execution_count": null,
   "id": "27030179",
   "metadata": {},
   "outputs": [],
   "source": [
    "data_2020 = data_2020.fillna(-1)"
   ]
  },
  {
   "cell_type": "markdown",
   "id": "d8e2c97d",
   "metadata": {},
   "source": [
    "Now we can start standardizing the data to useful forms"
   ]
  },
  {
   "cell_type": "markdown",
   "id": "f185139a",
   "metadata": {},
   "source": [
    "#### 2016"
   ]
  },
  {
   "cell_type": "code",
   "execution_count": null,
   "id": "6cd1d927",
   "metadata": {},
   "outputs": [],
   "source": [
    "data_2016['self_employed'] = data_2016['self_employed'].astype(\"int32\")\n",
    "data_2016['is_tech_company'] = data_2016['is_tech_company'].astype(\"int32\")\n",
    "data_2016['is_tech_role'] = data_2016['is_tech_role'].astype(\"int32\")\n",
    "data_2016['age'] = data_2016['age'].astype(\"int32\")\n",
    "\n",
    "data_2016['employee_count'] = data_2016['employee_count'].replace(employee_count_dict)\n",
    "\n",
    "data_2016['provide_mh_benefits'] = data_2016['provide_mh_benefits'].replace(yes_no_mapping)\n",
    "data_2016['know_mh_coverage'] = data_2016['know_mh_coverage'].replace(yes_no_mapping)\n",
    "data_2016['formal_discuss_mh'] = data_2016['formal_discuss_mh'].replace(yes_no_mapping)\n",
    "data_2016['offer_mh_learning_resources'] = data_2016['offer_mh_learning_resources'].replace(yes_no_mapping)\n",
    "\n",
    "data_2016['mh_leave_difficult'] = data_2016['mh_leave_difficult'].replace(difficulty_mapping)\n",
    "\n",
    "data_2016['discuss_mh_with_supervisor'] = data_2016['discuss_mh_with_supervisor'].replace(yes_no_maybe_mapping)\n",
    "data_2016['discuss_mh_with_coworkers'] = data_2016['discuss_mh_with_coworkers'].replace(yes_no_maybe_mapping)\n",
    "\n",
    "data_2016['has_mh_disorder'] = data_2016['has_mh_disorder'].replace(yes_no_possibly_mapping)\n",
    "\n",
    "data_2016['believed_mh_disorder'] = data_2016['believed_mh_disorder'].apply(standardize_disorders)\n",
    "data_2016['diagnosed_mh_disorder'] = data_2016['diagnosed_mh_disorder'].apply(standardize_disorders)\n",
    "\n",
    "data_2016['believed_mh_disorder'] = data_2016['believed_mh_disorder'].apply(tuple)\n",
    "data_2016['diagnosed_mh_disorder'] = data_2016['diagnosed_mh_disorder'].apply(tuple)"
   ]
  },
  {
   "cell_type": "code",
   "execution_count": null,
   "id": "960d80dd",
   "metadata": {},
   "outputs": [],
   "source": [
    "male = ['Male', 'male', 'Male ', 'M', 'm', 'man',  'Cis male', \n",
    "        'Male.', 'Male (cis)','Man', 'Sex is male', 'Male (trans, FtM)',\n",
    "        'cis male', 'Malr', 'Dude', 'Male/genderqueer',\n",
    "        \"I'm a man why didn't you make this a drop down question. You should of asked sex? And I would of answered yes please. Seriously how much text can this take? \",\n",
    "        'mail', 'M|', 'male ', 'Cis Male', 'cisdude', 'cis man', 'MALE']\n",
    "female = ['Female', 'female', 'I identify as female.', 'female ', 'Female assigned at birth ',\n",
    "         'F', 'Woman', 'fm', 'f', 'Cis female ', 'Transitioned, M2F', 'Genderfluid (born female)', 'Female or Multi-Gender Femme', \n",
    "         'Female ', 'woman', 'female/woman', 'Cisgender Female', 'fem', 'Female (props for making this a freeform field, though)',\n",
    "         ' Female', 'Cis-woman', 'Genderflux demi-girl', 'female-bodied; no feelings about gender',\n",
    "         'Transgender woman', 'genderqueer woman']\n",
    "\n",
    "data_2016['gender'] = data_2016['gender'].apply(gender_standardization, args=(male, female))"
   ]
  },
  {
   "cell_type": "markdown",
   "id": "7c2e2769",
   "metadata": {},
   "source": [
    "#### 2017"
   ]
  },
  {
   "cell_type": "code",
   "execution_count": null,
   "id": "d05fd15f",
   "metadata": {},
   "outputs": [],
   "source": [
    "data_2017['self_employed'] = data_2017['self_employed'].astype(\"int32\")\n",
    "data_2017['is_tech_company'] = data_2017['is_tech_company'].astype(\"int32\")\n",
    "data_2017['is_tech_role'] = data_2017['is_tech_role'].astype(\"int32\")\n",
    "data_2017['age'] = data_2017['age'].astype(\"int32\")\n",
    "data_2017['mh_importance'] = data_2017['mh_importance'].astype(\"int32\")\n",
    "\n",
    "data_2017['employee_count'] = data_2017['employee_count'].replace(employee_count_dict)\n",
    "\n",
    "data_2017['provide_mh_benefits'] = data_2017['provide_mh_benefits'].replace(yes_no_mapping)\n",
    "data_2017['know_mh_coverage'] = data_2017['know_mh_coverage'].replace(yes_no_mapping)\n",
    "data_2017['formal_discuss_mh'] = data_2017['formal_discuss_mh'].replace(yes_no_mapping)\n",
    "data_2017['offer_mh_learning_resources'] = data_2017['offer_mh_learning_resources'].replace(yes_no_mapping)\n",
    "\n",
    "data_2017['mh_leave_difficult'] = data_2017['mh_leave_difficult'].replace(difficulty_mapping)\n",
    "\n",
    "data_2017['discuss_mh_with_supervisor'] = data_2017['discuss_mh_with_supervisor'].replace(yes_no_maybe_mapping)\n",
    "data_2017['discuss_mh_with_coworkers'] = data_2017['discuss_mh_with_coworkers'].replace(yes_no_maybe_mapping)\n",
    "\n",
    "data_2017['has_mh_disorder'] = data_2017['has_mh_disorder'].replace(yes_no_possibly_mapping)\n",
    "\n",
    "data_2017['believed_mh_disorder'] = data_2017['believed_mh_disorder'].apply(tuple)\n",
    "data_2017['diagnosed_mh_disorder'] = data_2017['diagnosed_mh_disorder'].apply(tuple)"
   ]
  },
  {
   "cell_type": "code",
   "execution_count": null,
   "id": "8b685b71",
   "metadata": {},
   "outputs": [],
   "source": [
    "male=['male','Male','M','Man','cis-male','Mail','m','Male (cis)','Cis male','Male ', 'Cis-male','Cis Male','dude']\n",
    "female=['Female','F','female','f','Female','Woman','femalw','femail','female (cis)','woman','female (cisgender)','Female (cis) ','cis-Female','cis female', 'F, cisgender']\n",
    "data_2017['gender'] = data_2017['gender'].apply(gender_standardization, args=(male, female))"
   ]
  },
  {
   "cell_type": "markdown",
   "id": "c1dcb29f",
   "metadata": {},
   "source": [
    "#### 2018"
   ]
  },
  {
   "cell_type": "code",
   "execution_count": null,
   "id": "03307f91",
   "metadata": {},
   "outputs": [],
   "source": [
    "data_2018['self_employed'] = data_2018['self_employed'].astype(\"int32\")\n",
    "data_2018['is_tech_company'] = data_2018['is_tech_company'].astype(\"int32\")\n",
    "data_2018['is_tech_role'] = data_2018['is_tech_role'].astype(\"int32\")\n",
    "data_2018['age'] = data_2018['age'].astype(\"int32\")\n",
    "data_2018['mh_importance'] = data_2018['mh_importance'].astype(\"int32\")\n",
    "\n",
    "data_2018['employee_count'] = data_2018['employee_count'].replace(employee_count_dict)\n",
    "\n",
    "data_2018['provide_mh_benefits'] = data_2018['provide_mh_benefits'].replace(yes_no_mapping)\n",
    "data_2018['know_mh_coverage'] = data_2018['know_mh_coverage'].replace(yes_no_mapping)\n",
    "data_2018['formal_discuss_mh'] = data_2018['formal_discuss_mh'].replace(yes_no_mapping)\n",
    "data_2018['offer_mh_learning_resources'] = data_2018['offer_mh_learning_resources'].replace(yes_no_mapping)\n",
    "\n",
    "data_2018['mh_leave_difficult'] = data_2018['mh_leave_difficult'].replace(difficulty_mapping)\n",
    "\n",
    "data_2018['discuss_mh_with_supervisor'] = data_2018['discuss_mh_with_supervisor'].replace(yes_no_maybe_mapping)\n",
    "data_2018['discuss_mh_with_coworkers'] = data_2018['discuss_mh_with_coworkers'].replace(yes_no_maybe_mapping)\n",
    "\n",
    "data_2018['has_mh_disorder'] = data_2018['has_mh_disorder'].replace(yes_no_possibly_mapping)\n",
    "\n",
    "data_2018['believed_mh_disorder'] = data_2018['believed_mh_disorder'].apply(tuple)\n",
    "data_2018['diagnosed_mh_disorder'] = data_2018['diagnosed_mh_disorder'].apply(tuple)"
   ]
  },
  {
   "cell_type": "code",
   "execution_count": null,
   "id": "644164c2",
   "metadata": {},
   "outputs": [],
   "source": [
    "male = ['male', 'Male', 'Ostensibly Male', 'male, born with xy chromosoms', 'Malel', 'M',\n",
    "       'MALE','m', 'Male (or female, or both)', 'Trans man', 'Cis-male', 'Male ',\n",
    "       'cis male', 'Cis Male', 'Man', 'Demiguy', 'Cisgender male']\n",
    "female = ['Female', 'female', 'Female ', 'Woman', 'woman', 'F', 'f',\n",
    "       'I identify as female', '*shrug emoji* (F)',\n",
    "       'Female/gender non-binary.', 'Cis woman', \n",
    "       'Female (cisgender)', 'Cis-Female', 'Cisgendered woman',\n",
    "       'Trans woman', 'Trans female', \n",
    "       'She/her/they/them', 'Cis female ',\n",
    "       'cisgender female', 'Nonbinary/femme',\n",
    "       'gender non-conforming woman']\n",
    "\n",
    "data_2018['gender'] = data_2018['gender'].apply(gender_standardization, args=(male, female))"
   ]
  },
  {
   "cell_type": "markdown",
   "id": "bdc35069",
   "metadata": {},
   "source": [
    "#### 2019"
   ]
  },
  {
   "cell_type": "code",
   "execution_count": null,
   "id": "ce2c8ecb",
   "metadata": {},
   "outputs": [],
   "source": [
    "data_2019['self_employed'] = data_2019['self_employed'].astype(\"int32\")\n",
    "data_2019['is_tech_company'] = data_2019['is_tech_company'].astype(\"int32\")\n",
    "data_2019['is_tech_role'] = data_2019['is_tech_role'].astype(\"int32\")\n",
    "data_2019['age'] = data_2019['age'].astype(\"int32\")\n",
    "data_2019['mh_importance'] = data_2019['mh_importance'].astype(\"int32\")\n",
    "\n",
    "data_2019['employee_count'] = data_2019['employee_count'].replace(employee_count_dict)\n",
    "\n",
    "data_2019['provide_mh_benefits'] = data_2019['provide_mh_benefits'].replace(yes_no_mapping)\n",
    "data_2019['know_mh_coverage'] = data_2019['know_mh_coverage'].replace(yes_no_mapping)\n",
    "data_2019['formal_discuss_mh'] = data_2019['formal_discuss_mh'].replace(yes_no_mapping)\n",
    "data_2019['offer_mh_learning_resources'] = data_2019['offer_mh_learning_resources'].replace(yes_no_mapping)\n",
    "\n",
    "data_2019['mh_leave_difficult'] = data_2019['mh_leave_difficult'].replace(difficulty_mapping)\n",
    "\n",
    "data_2019['discuss_mh_with_supervisor'] = data_2019['discuss_mh_with_supervisor'].replace(yes_no_maybe_mapping)\n",
    "data_2019['discuss_mh_with_coworkers'] = data_2019['discuss_mh_with_coworkers'].replace(yes_no_maybe_mapping)\n",
    "\n",
    "data_2019['has_mh_disorder'] = data_2019['has_mh_disorder'].replace(yes_no_possibly_mapping)\n",
    "\n",
    "data_2019['believed_mh_disorder'] = data_2019['believed_mh_disorder'].apply(standardize_disorders)\n",
    "data_2019['diagnosed_mh_disorder'] = data_2019['diagnosed_mh_disorder'].apply(standardize_disorders)\n",
    "\n",
    "data_2019['believed_mh_disorder'] = data_2019['believed_mh_disorder'].apply(tuple)\n",
    "data_2019['diagnosed_mh_disorder'] = data_2019['diagnosed_mh_disorder'].apply(tuple)"
   ]
  },
  {
   "cell_type": "code",
   "execution_count": null,
   "id": "b3cd66ff",
   "metadata": {},
   "outputs": [],
   "source": [
    "male = ['Male', 'male', 'm', 'M',\n",
    " 'Let\\'s keep it simple and say \"male\"', 'Identify as male',\n",
    " 'Male ', 'Masculine', 'Cishet male', \n",
    " 'Man', 'cis male', 'Cis Male', 'Trans man', 'man',\n",
    " 'masculino', 'Make',\n",
    " 'CIS Male']\n",
    "female = ['female', 'Female', 'F', 'f',\n",
    " 'Woman', 'Female-identified', 'woman', 'cis woman',\n",
    " 'Agender trans woman', 'Female ', 'femmina', 'Femile' 'Female (cis)']\n",
    "\n",
    "data_2019['gender'] = data_2019['gender'].apply(gender_standardization, args=(male, female))"
   ]
  },
  {
   "cell_type": "markdown",
   "id": "53095026",
   "metadata": {},
   "source": [
    "#### 2020"
   ]
  },
  {
   "cell_type": "code",
   "execution_count": null,
   "id": "a50f16d6",
   "metadata": {},
   "outputs": [],
   "source": [
    "data_2020['self_employed'] = data_2020['self_employed'].astype(\"int32\")\n",
    "data_2020['is_tech_company'] = data_2020['is_tech_company'].astype(\"int32\")\n",
    "data_2020['is_tech_role'] = data_2020['is_tech_role'].astype(\"int32\")\n",
    "data_2020['age'] = data_2020['age'].astype(\"int32\")\n",
    "data_2020['mh_importance'] = data_2020['mh_importance'].astype(\"int32\")\n",
    "\n",
    "data_2020['employee_count'] = data_2020['employee_count'].replace(employee_count_dict)\n",
    "\n",
    "data_2020['provide_mh_benefits'] = data_2020['provide_mh_benefits'].replace(yes_no_mapping)\n",
    "data_2020['know_mh_coverage'] = data_2020['know_mh_coverage'].replace(yes_no_mapping)\n",
    "data_2020['formal_discuss_mh'] = data_2020['formal_discuss_mh'].replace(yes_no_mapping)\n",
    "data_2020['offer_mh_learning_resources'] = data_2020['offer_mh_learning_resources'].replace(yes_no_mapping)\n",
    "\n",
    "data_2020['mh_leave_difficult'] = data_2020['mh_leave_difficult'].replace(difficulty_mapping)\n",
    "\n",
    "data_2020['discuss_mh_with_supervisor'] = data_2020['discuss_mh_with_supervisor'].replace(yes_no_maybe_mapping)\n",
    "data_2020['discuss_mh_with_coworkers'] = data_2020['discuss_mh_with_coworkers'].replace(yes_no_maybe_mapping)\n",
    "\n",
    "data_2020['has_mh_disorder'] = data_2020['has_mh_disorder'].replace(yes_no_possibly_mapping)\n",
    "data_2020['believed_mh_disorder'] = data_2020['believed_mh_disorder'].apply(tuple)\n",
    "data_2020['diagnosed_mh_disorder'] = data_2020['diagnosed_mh_disorder'].apply(tuple)"
   ]
  },
  {
   "cell_type": "code",
   "execution_count": null,
   "id": "86ec0ec7",
   "metadata": {},
   "outputs": [],
   "source": [
    "male = ['Male', 'male', 'mail', 'M', 'm', 'mostly male', 'cisgender male', 'MAle']\n",
    "female = ['female', 'Female', 'F', 'f', 'Woman', 'FEMALE', 'female, she/her']\n",
    "\n",
    "data_2020['gender'] = data_2020['gender'].apply(gender_standardization, args=(male, female))"
   ]
  },
  {
   "cell_type": "markdown",
   "id": "dbebe42c",
   "metadata": {},
   "source": [
    "Taking a brief look at our standardized data"
   ]
  },
  {
   "cell_type": "code",
   "execution_count": null,
   "id": "f7070e52",
   "metadata": {},
   "outputs": [],
   "source": [
    "data_2016.head()"
   ]
  },
  {
   "cell_type": "code",
   "execution_count": null,
   "id": "97a87579",
   "metadata": {},
   "outputs": [],
   "source": [
    "data_2016.describe()"
   ]
  },
  {
   "cell_type": "code",
   "execution_count": null,
   "id": "f894b082",
   "metadata": {},
   "outputs": [],
   "source": [
    "data_2017.head()"
   ]
  },
  {
   "cell_type": "code",
   "execution_count": null,
   "id": "bf7c073a",
   "metadata": {},
   "outputs": [],
   "source": [
    "data_2017.describe()"
   ]
  },
  {
   "cell_type": "code",
   "execution_count": null,
   "id": "cac12fba",
   "metadata": {},
   "outputs": [],
   "source": [
    "data_2018.head()"
   ]
  },
  {
   "cell_type": "code",
   "execution_count": null,
   "id": "d9468a0b",
   "metadata": {},
   "outputs": [],
   "source": [
    "data_2018.describe()"
   ]
  },
  {
   "cell_type": "code",
   "execution_count": null,
   "id": "590a9992",
   "metadata": {},
   "outputs": [],
   "source": [
    "data_2019.head()"
   ]
  },
  {
   "cell_type": "code",
   "execution_count": null,
   "id": "560052bf",
   "metadata": {},
   "outputs": [],
   "source": [
    "data_2019.describe()"
   ]
  },
  {
   "cell_type": "code",
   "execution_count": null,
   "id": "bbca1f0e",
   "metadata": {},
   "outputs": [],
   "source": [
    "data_2020.head()"
   ]
  },
  {
   "cell_type": "code",
   "execution_count": null,
   "id": "03d302e4",
   "metadata": {},
   "outputs": [],
   "source": [
    "data_2020.describe()"
   ]
  },
  {
   "cell_type": "markdown",
   "id": "933c27bf",
   "metadata": {},
   "source": [
    "Now that the data is standardized, we can merge it into one dataframe to perform our analysis."
   ]
  },
  {
   "cell_type": "markdown",
   "id": "ffc99743",
   "metadata": {},
   "source": [
    "## Merging Dataframes"
   ]
  },
  {
   "cell_type": "markdown",
   "id": "8f9e77a2",
   "metadata": {},
   "source": [
    "First, we need to make sure we label each year with a year timestamp so the data is still groupable by year."
   ]
  },
  {
   "cell_type": "code",
   "execution_count": null,
   "id": "c513ec48",
   "metadata": {},
   "outputs": [],
   "source": [
    "data_2016['year'] = datetime.datetime(2016, 1, 1)\n",
    "data_2017['year'] = datetime.datetime(2017, 1, 1)\n",
    "data_2018['year'] = datetime.datetime(2018, 1, 1)\n",
    "data_2019['year'] = datetime.datetime(2019, 1, 1)\n",
    "data_2020['year'] = datetime.datetime(2020, 1, 1)"
   ]
  },
  {
   "cell_type": "markdown",
   "id": "40b6b469",
   "metadata": {},
   "source": [
    "Now we merge the dataframes"
   ]
  },
  {
   "cell_type": "code",
   "execution_count": null,
   "id": "27b67185",
   "metadata": {},
   "outputs": [],
   "source": [
    "merged_df = data_2016.merge(data_2017, how='outer').merge(data_2018, how='outer').merge(data_2019, how='outer').merge(data_2020, how='outer')"
   ]
  },
  {
   "cell_type": "code",
   "execution_count": null,
   "id": "56510b95",
   "metadata": {},
   "outputs": [],
   "source": [
    "merged_df.shape"
   ]
  },
  {
   "cell_type": "markdown",
   "id": "7217969d",
   "metadata": {},
   "source": [
    "We have the correct number of rows, now we do a sanity check to ensure everything was merged as expected."
   ]
  },
  {
   "cell_type": "code",
   "execution_count": null,
   "id": "caba1646",
   "metadata": {},
   "outputs": [],
   "source": [
    "merged_df.head()"
   ]
  },
  {
   "cell_type": "code",
   "execution_count": null,
   "id": "c7b74769",
   "metadata": {},
   "outputs": [],
   "source": [
    "merged_df.describe()"
   ]
  },
  {
   "cell_type": "markdown",
   "id": "9ee6e40b",
   "metadata": {},
   "source": [
    "Our cleaned data is now merged and ready for analysis."
   ]
  },
  {
   "cell_type": "markdown",
   "id": "2bc427ab",
   "metadata": {},
   "source": [
    "## Data Analysis"
   ]
  },
  {
   "cell_type": "code",
   "execution_count": null,
   "id": "8e1cffba",
   "metadata": {},
   "outputs": [],
   "source": [
    "average_company_size = merged_df[merged_df['employee_count'] != -1].groupby(['year'])['employee_count'].mean()"
   ]
  },
  {
   "cell_type": "code",
   "execution_count": null,
   "id": "ce1c260f",
   "metadata": {},
   "outputs": [],
   "source": [
    "average_company_size.plot(x='year')\n",
    "sns.despine()"
   ]
  },
  {
   "cell_type": "code",
   "execution_count": null,
   "id": "562673a1",
   "metadata": {},
   "outputs": [],
   "source": [
    "sns.lineplot(x='year',y='employee_count', data=(merged_df[merged_df['employee_count'] != -1]))\n",
    "sns.despine()"
   ]
  },
  {
   "cell_type": "code",
   "execution_count": null,
   "id": "60acd2be",
   "metadata": {
    "scrolled": false
   },
   "outputs": [],
   "source": [
    "to_1D(merged_df['believed_mh_disorder']).value_counts().plot(kind='bar')"
   ]
  },
  {
   "cell_type": "code",
   "execution_count": null,
   "id": "a229f143",
   "metadata": {
    "scrolled": false
   },
   "outputs": [],
   "source": [
    "to_1D(merged_df['diagnosed_mh_disorder']).value_counts().plot(kind='bar')"
   ]
  },
  {
   "cell_type": "code",
   "execution_count": null,
   "id": "73c74ee6",
   "metadata": {},
   "outputs": [],
   "source": [
    "to_1D(merged_df['diagnosed_mh_disorder']).unique()"
   ]
  },
  {
   "cell_type": "code",
   "execution_count": null,
   "id": "abce2230",
   "metadata": {},
   "outputs": [],
   "source": [
    "merged_df['diagnosed_mh_disorder'].unique()"
   ]
  },
  {
   "cell_type": "code",
   "execution_count": null,
   "id": "f96c2197",
   "metadata": {},
   "outputs": [],
   "source": [
    "merged_df['gender'].value_counts().plot(kind='bar')"
   ]
  },
  {
   "cell_type": "code",
   "execution_count": null,
   "id": "e9c40966",
   "metadata": {},
   "outputs": [],
   "source": [
    "merged_df['gender'].value_counts()"
   ]
  },
  {
   "cell_type": "code",
   "execution_count": null,
   "id": "ceb75242",
   "metadata": {},
   "outputs": [],
   "source": []
  }
 ],
 "metadata": {
  "kernelspec": {
   "display_name": "Python 3 (ipykernel)",
   "language": "python",
   "name": "python3"
  },
  "language_info": {
   "codemirror_mode": {
    "name": "ipython",
    "version": 3
   },
   "file_extension": ".py",
   "mimetype": "text/x-python",
   "name": "python",
   "nbconvert_exporter": "python",
   "pygments_lexer": "ipython3",
   "version": "3.8.12"
  }
 },
 "nbformat": 4,
 "nbformat_minor": 5
}
