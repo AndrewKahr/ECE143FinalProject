{
 "cells": [
  {
   "cell_type": "markdown",
   "id": "d2d7d38d",
   "metadata": {},
   "source": [
    "# Setup"
   ]
  },
  {
   "cell_type": "code",
   "execution_count": null,
   "id": "19fe2634",
   "metadata": {},
   "outputs": [],
   "source": [
    "import numpy as np\n",
    "import pandas as pd\n",
    "import datetime"
   ]
  },
  {
   "cell_type": "code",
   "execution_count": null,
   "id": "3e865a13",
   "metadata": {},
   "outputs": [],
   "source": [
    "data_2018 = pd.read_csv('data/OSMI 2019 Mental Health in Tech Survey Results.csv')"
   ]
  },
  {
   "cell_type": "code",
   "execution_count": null,
   "id": "b9e8d639",
   "metadata": {},
   "outputs": [],
   "source": [
    "data_2018.shape"
   ]
  },
  {
   "cell_type": "code",
   "execution_count": null,
   "id": "b681be11",
   "metadata": {},
   "outputs": [],
   "source": [
    "data_2018.columns"
   ]
  },
  {
   "cell_type": "code",
   "execution_count": null,
   "id": "1717e9fa",
   "metadata": {},
   "outputs": [],
   "source": [
    "data_2018.head()"
   ]
  },
  {
   "cell_type": "code",
   "execution_count": null,
   "id": "54ee21a2",
   "metadata": {},
   "outputs": [],
   "source": [
    "data_2018.describe()"
   ]
  },
  {
   "cell_type": "code",
   "execution_count": null,
   "id": "0cc75114",
   "metadata": {},
   "outputs": [],
   "source": [
    "list(data_2018.columns)"
   ]
  },
  {
   "cell_type": "code",
   "execution_count": null,
   "id": "82dd07d1",
   "metadata": {},
   "outputs": [],
   "source": [
    "data_2018['believed_mh_disorder'] = [[x for x in disorders if isinstance(x, str)] for disorders in data_2018.loc[:, 'Anxiety Disorder (Generalized, Social, Phobia, etc).1':'Other.1'].values.tolist()]"
   ]
  },
  {
   "cell_type": "code",
   "execution_count": null,
   "id": "3ee24983",
   "metadata": {},
   "outputs": [],
   "source": [
    "data_2018['diagnosed_mh_disorder'] = [[x for x in disorders if isinstance(x, str)] for disorders in data_2018.loc[:, 'Anxiety Disorder (Generalized, Social, Phobia, etc).1':'Other.1'].values.tolist()]"
   ]
  },
  {
   "cell_type": "code",
   "execution_count": null,
   "id": "1cfc76ef",
   "metadata": {},
   "outputs": [],
   "source": [
    "data_2018"
   ]
  },
  {
   "cell_type": "markdown",
   "id": "1d95e0ab",
   "metadata": {},
   "source": [
    "# Data Cleaning"
   ]
  },
  {
   "cell_type": "markdown",
   "id": "27e0c676",
   "metadata": {},
   "source": [
    "## 2018 Data\n",
    "### Dropping Columns\n"
   ]
  },
  {
   "cell_type": "code",
   "execution_count": null,
   "id": "4d7bd223",
   "metadata": {},
   "outputs": [],
   "source": [
    "valid_columns = ['<strong>Are you self-employed?</strong>',\n",
    "       'How many employees does your company or organization have?',\n",
    "       'Is your employer primarily a tech company/organization?',\n",
    "       'Is your primary role within your company related to tech/IT?',\n",
    "       'Does your employer provide mental health benefits as part of healthcare coverage?',\n",
    "       'Do you know the options for mental health care available under your employer-provided health coverage?',\n",
    "       'Has your employer ever formally discussed mental health (for example, as part of a wellness campaign or other official communication)?',\n",
    "       'Does your employer offer resources to learn more about mental health disorders and options for seeking help?',\n",
    "       'If a mental health issue prompted you to request a medical leave from work, how easy or difficult would it be to ask for that leave?',\n",
    "       'Would you feel comfortable discussing a mental health issue with your direct supervisor(s)?',\n",
    "       'Have you ever discussed your mental health with your employer?',\n",
    "       'Would you feel comfortable discussing a mental health issue with your coworkers?',\n",
    "       'Have you ever discussed your mental health with coworkers?',\n",
    "       \"Have you ever had a coworker discuss their or another coworker's mental health with you?\",\n",
    "       'Overall, how much importance does your employer place on mental health?',\n",
    "       'Do you currently have a mental health disorder?',\n",
    "       'believed_mh_disorder',\n",
    "       'diagnosed_mh_disorder',\n",
    "       'What is your age?', 'What is your gender?',\n",
    "       'What country do you <strong>live</strong> in?',\n",
    "       'What US state or territory do you <strong>live</strong> in?',\n",
    "       'What country do you <strong>work</strong> in?',\n",
    "       'What US state or territory do you <strong>work</strong> in?']\n",
    "data_2018 = data_2018[valid_columns]"
   ]
  },
  {
   "cell_type": "code",
   "execution_count": null,
   "id": "42c1d165",
   "metadata": {
    "scrolled": true
   },
   "outputs": [],
   "source": [
    "data_2018"
   ]
  },
  {
   "cell_type": "markdown",
   "id": "573723ad",
   "metadata": {},
   "source": [
    "### Standardizing Data"
   ]
  },
  {
   "cell_type": "code",
   "execution_count": null,
   "id": "57293440",
   "metadata": {},
   "outputs": [],
   "source": [
    "column_name_mapping = {\n",
    "    '<strong>Are you self-employed?</strong>': 'self_employed',\n",
    "       'How many employees does your company or organization have?': 'employee_count',\n",
    "       'Is your employer primarily a tech company/organization?': 'is_tech_company',\n",
    "       'Is your primary role within your company related to tech/IT?': 'is_tech_role',\n",
    "       'Does your employer provide mental health benefits as part of healthcare coverage?': 'provide_mh_benefits',\n",
    "       'Do you know the options for mental health care available under your employer-provided health coverage?': 'know_mh_coverage',\n",
    "       'Has your employer ever formally discussed mental health (for example, as part of a wellness campaign or other official communication)?': \"formal_discuss_mh\",\n",
    "       'Does your employer offer resources to learn more about mental health disorders and options for seeking help?': \"offer_mh_learning_resources\",\n",
    "       'If a mental health issue prompted you to request a medical leave from work, how easy or difficult would it be to ask for that leave?': \"mh_leave_difficult\",\n",
    "       'Would you feel comfortable discussing a mental health issue with your direct supervisor(s)?': \"discuss_mh_with_supervisor\",\n",
    "       'Would you feel comfortable discussing a mental health issue with your coworkers?': \"discuss_mh_with_coworkers\",\n",
    "       'Overall, how much importance does your employer place on mental health?': \"mh_importance\",\n",
    "       'Do you currently have a mental health disorder?': \"has_mh_disorder\",\n",
    "       'What is your age?': \"age\",\n",
    "       'What is your gender?': \"gender\",\n",
    "       'What country do you <strong>live</strong> in?': \"live_country\",\n",
    "       'What US state or territory do you <strong>live</strong> in?': \"live_state\",\n",
    "       'What country do you <strong>work</strong> in?': \"work_country\",\n",
    "       'What US state or territory do you <strong>work</strong> in?': \"work_state\"\n",
    "}\n",
    "data_2018 = data_2018.rename(columns=column_name_mapping)\n",
    "data_2018.head()    "
   ]
  },
  {
   "cell_type": "markdown",
   "id": "fe77ec32",
   "metadata": {},
   "source": [
    "We have null data in columns that need to be addressed first"
   ]
  },
  {
   "cell_type": "code",
   "execution_count": null,
   "id": "407fd776",
   "metadata": {},
   "outputs": [],
   "source": [
    "data_2018 = data_2018.fillna(-1)"
   ]
  },
  {
   "cell_type": "code",
   "execution_count": null,
   "id": "fee4ef08",
   "metadata": {},
   "outputs": [],
   "source": [
    "for col in data_2018:\n",
    "    if not isinstance(data_2018[col][0], list):\n",
    "        print(col + \": \" + str(data_2018[col].unique()))"
   ]
  },
  {
   "cell_type": "code",
   "execution_count": null,
   "id": "20c1a768",
   "metadata": {
    "scrolled": true
   },
   "outputs": [],
   "source": [
    "employee_count_dict = {'1-5': 0, '6-25': 1, '26-100': 2, '100-500': 3, '500-1000': 4, 'More than 1000': 5}\n",
    "data_2018['employee_count'] = data_2018['employee_count'].replace(employee_count_dict)\n",
    "data_2018"
   ]
  },
  {
   "cell_type": "code",
   "execution_count": null,
   "id": "2c5d261e",
   "metadata": {
    "scrolled": true
   },
   "outputs": [],
   "source": [
    "data_2018['is_tech_company'].value_counts()"
   ]
  },
  {
   "cell_type": "code",
   "execution_count": null,
   "id": "6201ae8c",
   "metadata": {},
   "outputs": [],
   "source": [
    "data_2018['is_tech_role'].value_counts()"
   ]
  },
  {
   "cell_type": "code",
   "execution_count": null,
   "id": "27495248",
   "metadata": {},
   "outputs": [],
   "source": [
    "yes_no_mapping = {\"Yes\": 2, \"I don't know\": 1, \"No\": 0, \"Not eligible for coverage / NA\": 0}\n",
    "\n",
    "data_2018['provide_mh_benefits'] = data_2018['provide_mh_benefits'].replace(yes_no_mapping)\n",
    "data_2018['know_mh_coverage'] = data_2018['know_mh_coverage'].replace(yes_no_mapping)\n",
    "data_2018['formal_discuss_mh'] = data_2018['formal_discuss_mh'].replace(yes_no_mapping)\n",
    "data_2018['offer_mh_learning_resources'] = data_2018['offer_mh_learning_resources'].replace(yes_no_mapping)\n",
    "data_2018"
   ]
  },
  {
   "cell_type": "code",
   "execution_count": null,
   "id": "9c0b4a3b",
   "metadata": {},
   "outputs": [],
   "source": [
    "difficulty_mapping = {'Very easy': 5, 'Somewhat easy': 4, \"I don't know\": 3, 'Neither easy nor difficult': 3, 'Somewhat difficult': 2, 'Difficult': 1, 'Very difficult': 0}\n",
    "data_2018['mh_leave_difficult'] = data_2018['mh_leave_difficult'].replace(difficulty_mapping)\n",
    "data_2018"
   ]
  },
  {
   "cell_type": "code",
   "execution_count": null,
   "id": "4cdb09aa",
   "metadata": {
    "scrolled": true
   },
   "outputs": [],
   "source": [
    "yes_no_maybe_mapping = {'Yes':2, 'Maybe':1, 'No':0}\n",
    "data_2018['discuss_mh_with_supervisor'] = data_2018['discuss_mh_with_supervisor'].replace(yes_no_maybe_mapping)\n",
    "data_2018['discuss_mh_with_coworkers'] = data_2018['discuss_mh_with_coworkers'].replace(yes_no_maybe_mapping)\n",
    "data_2018"
   ]
  },
  {
   "cell_type": "code",
   "execution_count": null,
   "id": "ec0afbca",
   "metadata": {},
   "outputs": [],
   "source": [
    "yes_no_possibly_mapping = {'Yes': 3, 'Possibly': 2, \"Don't Know\": 1, 'No': 0}\n",
    "data_2018['has_mh_disorder'] = data_2018['has_mh_disorder'].replace(yes_no_possibly_mapping)\n",
    "data_2018"
   ]
  },
  {
   "cell_type": "code",
   "execution_count": null,
   "id": "90984731",
   "metadata": {},
   "outputs": [],
   "source": [
    "male = ['Male', 'male', 'mail', 'M', 'm', 'mostly male', 'cisgender male', 'MAle']\n",
    "female = ['female', 'Female', 'F', 'f', 'Woman', 'FEMALE', 'female, she/her',]\n",
    "def gender_standardization(gender):\n",
    "    if gender in male:\n",
    "        return 0\n",
    "    elif gender in female:\n",
    "        return 1\n",
    "    elif isinstance(gender, int) and gender == -1:\n",
    "        return -1\n",
    "    else:\n",
    "        return 2\n",
    "    \n",
    "data_2018['gender'] = data_2018['gender'].apply(gender_standardization)\n",
    "data_2018"
   ]
  }
 ],
 "metadata": {
  "kernelspec": {
   "display_name": "Python 3",
   "language": "python",
   "name": "python3"
  },
  "language_info": {
   "codemirror_mode": {
    "name": "ipython",
    "version": 3
   },
   "file_extension": ".py",
   "mimetype": "text/x-python",
   "name": "python",
   "nbconvert_exporter": "python",
   "pygments_lexer": "ipython3",
   "version": "3.9.5"
  }
 },
 "nbformat": 4,
 "nbformat_minor": 5
}
