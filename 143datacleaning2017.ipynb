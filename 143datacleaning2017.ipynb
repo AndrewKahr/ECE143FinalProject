{
 "cells": [
  {
   "cell_type": "code",
   "execution_count": null,
   "id": "6339e815",
   "metadata": {},
   "outputs": [],
   "source": [
    "import pandas as pd\n",
    "import numpy as np\n",
    "import datetime\n",
    "from collections import defaultdict"
   ]
  },
  {
   "cell_type": "code",
   "execution_count": null,
   "id": "6a2da2ed",
   "metadata": {},
   "outputs": [],
   "source": [
    "QAcsv=pd.read_csv('data/OSMI Mental Health in Tech Survey 2017.csv')"
   ]
  },
  {
   "cell_type": "code",
   "execution_count": null,
   "id": "775ec1a7",
   "metadata": {
    "scrolled": true
   },
   "outputs": [],
   "source": [
    "list(QAcsv.columns)"
   ]
  },
  {
   "cell_type": "code",
   "execution_count": null,
   "id": "fdaa75b7-c107-4c2b-ab58-d7ae68a81322",
   "metadata": {},
   "outputs": [],
   "source": [
    "other_cols = [\n",
    "        'Are you self-employed?',\n",
    "        'How many employees does your company or organization have?',\n",
    "        'Is your employer primarily a tech company/organization?',\n",
    "        'Is your primary role within your company related to tech/IT?',\n",
    "        'Does your employer provide mental health benefits\\xa0as part of healthcare coverage?',\n",
    "        'Do you know the options for mental health care available under your employer-provided health coverage?',\n",
    "        'Has your employer ever formally discussed mental health (for example, as part of a wellness campaign or other official communication)?',\n",
    "        'Does your employer offer resources to learn more about mental health disorders and options for seeking help?',\n",
    "        'Overall, how much importance does your employer place on mental health?',\n",
    "        'If a mental health issue prompted you to request a medical leave from work, how easy or difficult would it be to ask for that leave?',\n",
    "        'What is your age?',\n",
    "        'What is your gender?',\n",
    "        'What country do you live in?',\n",
    "        'What US state or territory do you live in?',\n",
    "        'What country do you work in?',\n",
    "        'What US state or territory do you work in?',\n",
    "       ]\n",
    "attitude = [\n",
    " 'Would you feel comfortable discussing a mental health issue with your coworkers?',\n",
    " 'Would you feel comfortable discussing a mental health issue with your direct supervisor(s)?',\n",
    "]\n",
    "\n",
    "illness = ['Do you currently have a mental health disorder?']\n",
    "disorders_1=[\n",
    " 'Anxiety Disorder (Generalized, Social, Phobia, etc).1',\n",
    " 'Mood Disorder (Depression, Bipolar Disorder, etc).1',\n",
    " 'Psychotic Disorder (Schizophrenia, Schizoaffective, etc).1',\n",
    " 'Eating Disorder (Anorexia, Bulimia, etc).1',\n",
    " 'Attention Deficit Hyperactivity Disorder.1',\n",
    " 'Personality Disorder (Borderline, Antisocial, Paranoid, etc).1',\n",
    " 'Obsessive-Compulsive Disorder.1',\n",
    " 'Post-traumatic Stress Disorder',\n",
    " 'Stress Response Syndromes.1',\n",
    " 'Dissociative Disorder.1',\n",
    " 'Substance Use Disorder.1',\n",
    " 'Addictive Disorder.1',\n",
    " 'Other.1']\n",
    "disorders_2=[\n",
    " 'Anxiety Disorder (Generalized, Social, Phobia, etc).2',\n",
    " 'Mood Disorder (Depression, Bipolar Disorder, etc).2',\n",
    " 'Psychotic Disorder (Schizophrenia, Schizoaffective, etc).2',\n",
    " 'Eating Disorder (Anorexia, Bulimia, etc).2',\n",
    " 'Attention Deficit Hyperactivity Disorder.2',\n",
    " 'Personality Disorder (Borderline, Antisocial, Paranoid, etc).2',\n",
    " 'Obsessive-Compulsive Disorder.2',\n",
    " 'Post-traumatic Stress Disorder.1',\n",
    " 'Stress Response Syndromes.2',\n",
    " 'Dissociative Disorder.2',\n",
    " 'Substance Use Disorder.2',\n",
    " 'Addictive Disorder.2',\n",
    " 'Other.2']\n",
    "not_sured = [\n",
    "]   \n",
    "doesnthaves=[ \n",
    " 'Would you be willing to bring up a physical health issue with a potential employer in an interview?',\n",
    " 'Is your anonymity protected if you choose to take advantage of mental health or substance abuse treatment resources provided by your employer?',\n",
    " 'Do you think that discussing a mental health disorder with your employer would have negative consequences?',\n",
    " 'Do you think that discussing a physical health issue with your employer would have negative consequences?',\n",
    " 'Do you feel that your employer takes mental health as seriously as physical health?',\n",
    " 'Have you heard of or observed negative consequences for co-workers who have been open about mental health issues in your workplace?',\n",
    " 'If yes, what condition(s) have you been diagnosed with?',\n",
    " 'If maybe, what condition(s) do you believe you have?',\n",
    " 'Why or why not?',\n",
    " 'Why or why not?.1',\n",
    " 'How willing would you be to share with friends and family that you have a mental illness?',\n",
    " 'If they knew you suffered from a mental health disorder,\\xa0how do you think that team members/co-workers would react?',\n",
    " 'Has being identified as a person with a mental health issue affected your career?',\n",
    " 'Would you bring up your mental health with a potential employer in an interview?',\n",
    " 'Have you ever discussed your mental health with coworkers?',\n",
    " 'Have you ever discussed your mental health with your employer?',\n",
    " \"Have you ever had a coworker discuss their or another coworker's mental health with you?\"]\n",
    "novalidanswer=['Do you believe your productivity is ever affected by a mental health issue?','If yes, what percentage of your work time (time performing primary or secondary job functions) is affected by a mental health issue?']"
   ]
  },
  {
   "cell_type": "code",
   "execution_count": null,
   "id": "e22a4b72",
   "metadata": {},
   "outputs": [],
   "source": [
    "#employed=QAcsv[QAcsv['<strong>Are you self-employed?</strong>']==0]\n",
    "data_2017=QAcsv\n",
    "data_2017.columns=data_2017.columns.str.replace('</strong>','')\n",
    "data_2017.columns=data_2017.columns.str.replace('<strong>','')\n",
    "data_2017=data_2017[other_cols+attitude+illness+not_sured+disorders_2+disorders_1]"
   ]
  },
  {
   "cell_type": "code",
   "execution_count": null,
   "id": "01b75a3e-7bf6-4bf1-bc1a-9179429c5ce4",
   "metadata": {},
   "outputs": [],
   "source": [
    "def genderformatting(gin):\n",
    "    mlist=['male','Male','M','Man','cis-male','Mail','m','Male (cis)','Cis male','Male ', 'Cis-male','Cis Male','dude']\n",
    "    flist=['Female','F','female','f','Female','Woman','femalw','femail','female (cis)','woman','female (cisgender)','Female (cis) ','cis-Female','cis female', 'F, cisgender']\n",
    "    if gin in mlist:\n",
    "        return 0\n",
    "    elif gin in flist:\n",
    "        return 1\n",
    "    elif gin==-1:\n",
    "        return -1\n",
    "    else:\n",
    "        return 2"
   ]
  },
  {
   "cell_type": "code",
   "execution_count": null,
   "id": "e71b9b23-e83a-4913-b2b7-8c1a4a530ec0",
   "metadata": {},
   "outputs": [],
   "source": [
    "data_2017['What is your gender?'].unique()"
   ]
  },
  {
   "cell_type": "code",
   "execution_count": null,
   "id": "9bf39ae3-2209-4532-bd3e-0d40a6077df5",
   "metadata": {},
   "outputs": [],
   "source": [
    "data_2017=data_2017.assign(believed_mh_disorder=np.nan)\n",
    "data_2017['believed_mh_disorder']=data_2017['believed_mh_disorder'].astype(object)\n",
    "for disorder in disorders_2:\n",
    "    for j,val in data_2017[disorder].iteritems():\n",
    "        if isinstance(val,str):\n",
    "            if isinstance(data_2017['believed_mh_disorder'][j],list):\n",
    "                data_2017.at[j,'believed_mh_disorder'].append(val)\n",
    "            else:\n",
    "                data_2017.at[j,'believed_mh_disorder']=[val]"
   ]
  },
  {
   "cell_type": "code",
   "execution_count": null,
   "id": "25d02fff-b010-4390-8393-256b7698183f",
   "metadata": {},
   "outputs": [],
   "source": [
    "data_2017=data_2017.assign(diagnosed_mh_disorder=np.nan)\n",
    "data_2017['diagnosed_mh_disorder']=data_2017['diagnosed_mh_disorder'].astype(object)\n",
    "for disorder in disorders_1:\n",
    "    for j,val in data_2017[disorder].iteritems():\n",
    "        if isinstance(val,str):\n",
    "            if isinstance(data_2017['diagnosed_mh_disorder'][j],list):\n",
    "                data_2017.at[j,'diagnosed_mh_disorder'].append(val)\n",
    "            else:\n",
    "                data_2017.at[j,'diagnosed_mh_disorder']=[val]"
   ]
  },
  {
   "cell_type": "code",
   "execution_count": null,
   "id": "b3311b5f-f18c-4ffe-b35c-89e5af363d1c",
   "metadata": {},
   "outputs": [],
   "source": [
    "data_2017=data_2017[other_cols+attitude+illness+not_sured+['believed_mh_disorder']+['diagnosed_mh_disorder']]"
   ]
  },
  {
   "cell_type": "code",
   "execution_count": null,
   "id": "837b89ef-0e36-4d72-b252-6fc188a276d1",
   "metadata": {},
   "outputs": [],
   "source": [
    "mlist=['male','Male','M','Man','cis-male','Mail','m','Male (cis)','Cis male','Male ', 'Cis-male','Cis Male','dude']\n",
    "flist=['Female','F','female','f','Female','Woman','femalw','femail','female (cis)','woman','female (cisgender)','Female (cis) ','cis-Female','cis female', 'F, cisgender']\n",
    "employee_count_dict = {'1-5': 0, '6-25': 1, '26-100': 2, '100-500': 3, '500-1000': 4, 'More than 1000': 5}\n",
    "gdict=dict.fromkeys(mlist,'M')\n",
    "gdict.update(dict.fromkeys(flist,'F'))\n",
    "data_2017['What is your gender?']=data_2017['What is your gender?'].fillna(-1)\n",
    "data_2017['What is your gender?']=data_2017['What is your gender?'].apply(genderformatting)\n",
    "opiniondict={\"I don't know\":3, 'Difficult':1, 'Somewhat easy':4, 'Very easy':5,'Neither easy nor difficult':3, 'Somewhat difficult':2}\n",
    "data_2017['If a mental health issue prompted you to request a medical leave from work, how easy or difficult would it be to ask for that leave?']=data_2017['If a mental health issue prompted you to request a medical leave from work, how easy or difficult would it be to ask for that leave?'].map(opiniondict)\n",
    "yndict={'Yes':2}\n",
    "neutral=[\"Don't Know\",\"I don't know\"]\n",
    "negative=['No','Not eligible for coverage / NA','Maybe']\n",
    "yndict.update(dict.fromkeys(neutral,1))\n",
    "yndict.update(dict.fromkeys(negative,0))\n",
    "data_2017['Does your employer provide mental health benefits\\xa0as part of healthcare coverage?']=data_2017['Does your employer provide mental health benefits\\xa0as part of healthcare coverage?'].map(yndict)\n",
    "#data_2017['Is your anonymity protected if you choose to take advantage of mental health or substance abuse treatment resources provided by your employer?']=data_2017['Is your anonymity protected if you choose to take advantage of mental health or substance abuse treatment resources provided by your employer?'].map(yndict)\n",
    "data_2017['Do you currently have a mental health disorder?']=data_2017['Do you currently have a mental health disorder?'].map(yndict)\n",
    "data_2017['Would you feel comfortable discussing a mental health issue with your coworkers?']=data_2017['Would you feel comfortable discussing a mental health issue with your coworkers?'].map(yndict)\n",
    "data_2017['Would you feel comfortable discussing a mental health issue with your direct supervisor(s)?']=data_2017['Would you feel comfortable discussing a mental health issue with your direct supervisor(s)?'].map(yndict)\n",
    "data_2017['Has your employer ever formally discussed mental health (for example, as part of a wellness campaign or other official communication)?']=data_2017['Has your employer ever formally discussed mental health (for example, as part of a wellness campaign or other official communication)?'].map(yndict)\n",
    "#data_2017['Would you be willing to bring up a physical health issue with a potential employer in an interview?']=data_2017['Would you be willing to bring up a physical health issue with a potential employer in an interview?'].map(yndict)\n",
    "#data_2017['Would you bring up your mental health with a potential employer in an interview?']=data_2017['Would you bring up your mental health with a potential employer in an interview?'].map(yndict)"
   ]
  },
  {
   "cell_type": "code",
   "execution_count": null,
   "id": "b99331ab-55a0-4422-8773-055717a76672",
   "metadata": {},
   "outputs": [],
   "source": [
    "column_name_mapping = {\n",
    "       'Are you self-employed?': 'self_employed',\n",
    "       'How many employees does your company or organization have?': 'employee_count',\n",
    "       'Is your employer primarily a tech company/organization?': 'is_tech_company',\n",
    "       'Is your primary role within your company related to tech/IT?': 'is_tech_role',\n",
    "       'Does your employer provide mental health benefits\\xa0as part of healthcare coverage?': 'provide_mh_benefits',\n",
    "       'Do you know the options for mental health care available under your employer-provided health coverage?': 'know_mh_coverage',\n",
    "       'Has your employer ever formally discussed mental health (for example, as part of a wellness campaign or other official communication)?': \"formal_discuss_mh\",\n",
    "       'Does your employer offer resources to learn more about mental health disorders and options for seeking help?': \"offer_mh_learning_resources\",\n",
    "       'If a mental health issue prompted you to request a medical leave from work, how easy or difficult would it be to ask for that leave?': \"mh_leave_difficult\",\n",
    "       'Would you feel comfortable discussing a mental health issue with your direct supervisor(s)?': \"discuss_mh_with_supervisor\",\n",
    "       'Have you ever discussed your mental health with your employer?': \"discussed_mh_with_employer\",\n",
    "       'Would you feel comfortable discussing a mental health issue with your coworkers?': \"discuss_mh_with_coworkers\",\n",
    "       'Have you ever discussed your mental health with coworkers?': \"discussed_mh_with_coworkers\",\n",
    "       \"Have you ever had a coworker discuss their or another coworker's mental health with you?\": \"coworker_discussed_mh_with_you\",\n",
    "       'Overall, how much importance does your employer place on mental health?': \"mh_importance\",\n",
    "       'Do you currently have a mental health disorder?': \"has_mh_disorder\",\n",
    "       'What is your age?': \"age\",\n",
    "       'What is your gender?': \"gender\",\n",
    "       'What country do you live in?': \"live_country\",\n",
    "       'What US state or territory do you live in?': \"live_state\",\n",
    "       'What is your race?': \"race\",\n",
    "       'What country do you work in?': \"work_country\",\n",
    "       'What US state or territory do you work in?': \"work_state\"\n",
    "}\n",
    "data_2017=data_2017.rename(columns=column_name_mapping)"
   ]
  },
  {
   "cell_type": "code",
   "execution_count": null,
   "id": "504c3070-625f-4259-9abf-5b95a623c597",
   "metadata": {},
   "outputs": [],
   "source": [
    "data_2017['know_mh_coverage']=data_2017['know_mh_coverage'].map(yndict)\n",
    "data_2017['offer_mh_learning_resources']=data_2017['offer_mh_learning_resources'].map(yndict)\n",
    "data_2017['employee_count']=data_2017['employee_count'].map(employee_count_dict)"
   ]
  },
  {
   "cell_type": "code",
   "execution_count": null,
   "id": "53610262-94c3-4199-bda1-3fe9408b043c",
   "metadata": {},
   "outputs": [],
   "source": [
    "data_2017=data_2017.fillna(-1)\n",
    "data_2017['year'] = datetime.datetime(2017, 1, 1)"
   ]
  },
  {
   "cell_type": "code",
   "execution_count": null,
   "id": "ff3e8d0c-4839-4c99-9c85-2a0a3ba1e90c",
   "metadata": {},
   "outputs": [],
   "source": [
    "data_2017"
   ]
  },
  {
   "cell_type": "code",
   "execution_count": null,
   "id": "02f41ce6-c140-4cc8-8e75-8ec162989dc9",
   "metadata": {},
   "outputs": [],
   "source": []
  }
 ],
 "metadata": {
  "kernelspec": {
   "display_name": "Python 3 (ipykernel)",
   "language": "python",
   "name": "python3"
  },
  "language_info": {
   "codemirror_mode": {
    "name": "ipython",
    "version": 3
   },
   "file_extension": ".py",
   "mimetype": "text/x-python",
   "name": "python",
   "nbconvert_exporter": "python",
   "pygments_lexer": "ipython3",
   "version": "3.8.1"
  }
 },
 "nbformat": 4,
 "nbformat_minor": 5
}
